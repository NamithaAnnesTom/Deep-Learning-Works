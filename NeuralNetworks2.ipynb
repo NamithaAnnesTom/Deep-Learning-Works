{
  "nbformat": 4,
  "nbformat_minor": 0,
  "metadata": {
    "colab": {
      "provenance": [],
      "authorship_tag": "ABX9TyP7IdvPXCokphzNg1CT0uLy",
      "include_colab_link": true
    },
    "kernelspec": {
      "name": "python3",
      "display_name": "Python 3"
    },
    "language_info": {
      "name": "python"
    }
  },
  "cells": [
    {
      "cell_type": "markdown",
      "metadata": {
        "id": "view-in-github",
        "colab_type": "text"
      },
      "source": [
        "<a href=\"https://colab.research.google.com/github/NamithaAnnesTom/Deep-Learning-Works/blob/main/NeuralNetworks2.ipynb\" target=\"_parent\"><img src=\"https://colab.research.google.com/assets/colab-badge.svg\" alt=\"Open In Colab\"/></a>"
      ]
    },
    {
      "cell_type": "markdown",
      "source": [
        "***Building, Training, and Evaluating a Neural Network for Binary Classification with TensorFlow and Visualization of Training Progress***"
      ],
      "metadata": {
        "id": "OZ4Rxg44NMDK"
      }
    },
    {
      "cell_type": "markdown",
      "source": [
        "***IMPORT LIBRARIES***"
      ],
      "metadata": {
        "id": "C8ZAZsmudMig"
      }
    },
    {
      "cell_type": "code",
      "execution_count": null,
      "metadata": {
        "id": "Fcgd92HlM-_l"
      },
      "outputs": [],
      "source": [
        "import numpy as np\n",
        "import pandas as pd\n",
        "import tensorflow as tf\n",
        "from tensorflow import keras\n",
        "from tensorflow.keras import layers\n",
        "from sklearn.model_selection import train_test_split\n",
        "from sklearn.preprocessing import StandardScaler\n",
        "import matplotlib.pyplot as plt"
      ]
    },
    {
      "cell_type": "markdown",
      "source": [
        "NumPy and Pandas: Importing libraries for numerical operations and data manipulation.\n",
        "train_test_split: From scikit-learn, used to split the dataset into training and testing sets.\n",
        "StandardScaler: From scikit-learn, used to standardize (normalize) the features.\n",
        "Matplotlib: For creating plots.\n",
        "TensorFlow and Keras: Deep learning libraries for building and training neural networks."
      ],
      "metadata": {
        "id": "g7iIfNXfem-l"
      }
    },
    {
      "cell_type": "markdown",
      "source": [
        "***LOADING THE DATASET***"
      ],
      "metadata": {
        "id": "eva9v7QGepcH"
      }
    },
    {
      "cell_type": "code",
      "source": [
        "df=pd.read_csv('/content/heart.csv')\n",
        "df"
      ],
      "metadata": {
        "colab": {
          "base_uri": "https://localhost:8080/",
          "height": 423
        },
        "id": "fx6rNNRye13B",
        "outputId": "a9159827-cb8d-4e96-ea51-f5eda5b37252"
      },
      "execution_count": null,
      "outputs": [
        {
          "output_type": "execute_result",
          "data": {
            "text/plain": [
              "      age  sex  cp  trestbps  chol  fbs  restecg  thalach  exang  oldpeak  \\\n",
              "0      52    1   0       125   212    0        1      168      0      1.0   \n",
              "1      53    1   0       140   203    1        0      155      1      3.1   \n",
              "2      70    1   0       145   174    0        1      125      1      2.6   \n",
              "3      61    1   0       148   203    0        1      161      0      0.0   \n",
              "4      62    0   0       138   294    1        1      106      0      1.9   \n",
              "...   ...  ...  ..       ...   ...  ...      ...      ...    ...      ...   \n",
              "1020   59    1   1       140   221    0        1      164      1      0.0   \n",
              "1021   60    1   0       125   258    0        0      141      1      2.8   \n",
              "1022   47    1   0       110   275    0        0      118      1      1.0   \n",
              "1023   50    0   0       110   254    0        0      159      0      0.0   \n",
              "1024   54    1   0       120   188    0        1      113      0      1.4   \n",
              "\n",
              "      slope  ca  thal  target  \n",
              "0         2   2     3       0  \n",
              "1         0   0     3       0  \n",
              "2         0   0     3       0  \n",
              "3         2   1     3       0  \n",
              "4         1   3     2       0  \n",
              "...     ...  ..   ...     ...  \n",
              "1020      2   0     2       1  \n",
              "1021      1   1     3       0  \n",
              "1022      1   1     2       0  \n",
              "1023      2   0     2       1  \n",
              "1024      1   1     3       0  \n",
              "\n",
              "[1025 rows x 14 columns]"
            ],
            "text/html": [
              "\n",
              "  <div id=\"df-07dd5fda-6839-4094-8af1-16cecaec3239\" class=\"colab-df-container\">\n",
              "    <div>\n",
              "<style scoped>\n",
              "    .dataframe tbody tr th:only-of-type {\n",
              "        vertical-align: middle;\n",
              "    }\n",
              "\n",
              "    .dataframe tbody tr th {\n",
              "        vertical-align: top;\n",
              "    }\n",
              "\n",
              "    .dataframe thead th {\n",
              "        text-align: right;\n",
              "    }\n",
              "</style>\n",
              "<table border=\"1\" class=\"dataframe\">\n",
              "  <thead>\n",
              "    <tr style=\"text-align: right;\">\n",
              "      <th></th>\n",
              "      <th>age</th>\n",
              "      <th>sex</th>\n",
              "      <th>cp</th>\n",
              "      <th>trestbps</th>\n",
              "      <th>chol</th>\n",
              "      <th>fbs</th>\n",
              "      <th>restecg</th>\n",
              "      <th>thalach</th>\n",
              "      <th>exang</th>\n",
              "      <th>oldpeak</th>\n",
              "      <th>slope</th>\n",
              "      <th>ca</th>\n",
              "      <th>thal</th>\n",
              "      <th>target</th>\n",
              "    </tr>\n",
              "  </thead>\n",
              "  <tbody>\n",
              "    <tr>\n",
              "      <th>0</th>\n",
              "      <td>52</td>\n",
              "      <td>1</td>\n",
              "      <td>0</td>\n",
              "      <td>125</td>\n",
              "      <td>212</td>\n",
              "      <td>0</td>\n",
              "      <td>1</td>\n",
              "      <td>168</td>\n",
              "      <td>0</td>\n",
              "      <td>1.0</td>\n",
              "      <td>2</td>\n",
              "      <td>2</td>\n",
              "      <td>3</td>\n",
              "      <td>0</td>\n",
              "    </tr>\n",
              "    <tr>\n",
              "      <th>1</th>\n",
              "      <td>53</td>\n",
              "      <td>1</td>\n",
              "      <td>0</td>\n",
              "      <td>140</td>\n",
              "      <td>203</td>\n",
              "      <td>1</td>\n",
              "      <td>0</td>\n",
              "      <td>155</td>\n",
              "      <td>1</td>\n",
              "      <td>3.1</td>\n",
              "      <td>0</td>\n",
              "      <td>0</td>\n",
              "      <td>3</td>\n",
              "      <td>0</td>\n",
              "    </tr>\n",
              "    <tr>\n",
              "      <th>2</th>\n",
              "      <td>70</td>\n",
              "      <td>1</td>\n",
              "      <td>0</td>\n",
              "      <td>145</td>\n",
              "      <td>174</td>\n",
              "      <td>0</td>\n",
              "      <td>1</td>\n",
              "      <td>125</td>\n",
              "      <td>1</td>\n",
              "      <td>2.6</td>\n",
              "      <td>0</td>\n",
              "      <td>0</td>\n",
              "      <td>3</td>\n",
              "      <td>0</td>\n",
              "    </tr>\n",
              "    <tr>\n",
              "      <th>3</th>\n",
              "      <td>61</td>\n",
              "      <td>1</td>\n",
              "      <td>0</td>\n",
              "      <td>148</td>\n",
              "      <td>203</td>\n",
              "      <td>0</td>\n",
              "      <td>1</td>\n",
              "      <td>161</td>\n",
              "      <td>0</td>\n",
              "      <td>0.0</td>\n",
              "      <td>2</td>\n",
              "      <td>1</td>\n",
              "      <td>3</td>\n",
              "      <td>0</td>\n",
              "    </tr>\n",
              "    <tr>\n",
              "      <th>4</th>\n",
              "      <td>62</td>\n",
              "      <td>0</td>\n",
              "      <td>0</td>\n",
              "      <td>138</td>\n",
              "      <td>294</td>\n",
              "      <td>1</td>\n",
              "      <td>1</td>\n",
              "      <td>106</td>\n",
              "      <td>0</td>\n",
              "      <td>1.9</td>\n",
              "      <td>1</td>\n",
              "      <td>3</td>\n",
              "      <td>2</td>\n",
              "      <td>0</td>\n",
              "    </tr>\n",
              "    <tr>\n",
              "      <th>...</th>\n",
              "      <td>...</td>\n",
              "      <td>...</td>\n",
              "      <td>...</td>\n",
              "      <td>...</td>\n",
              "      <td>...</td>\n",
              "      <td>...</td>\n",
              "      <td>...</td>\n",
              "      <td>...</td>\n",
              "      <td>...</td>\n",
              "      <td>...</td>\n",
              "      <td>...</td>\n",
              "      <td>...</td>\n",
              "      <td>...</td>\n",
              "      <td>...</td>\n",
              "    </tr>\n",
              "    <tr>\n",
              "      <th>1020</th>\n",
              "      <td>59</td>\n",
              "      <td>1</td>\n",
              "      <td>1</td>\n",
              "      <td>140</td>\n",
              "      <td>221</td>\n",
              "      <td>0</td>\n",
              "      <td>1</td>\n",
              "      <td>164</td>\n",
              "      <td>1</td>\n",
              "      <td>0.0</td>\n",
              "      <td>2</td>\n",
              "      <td>0</td>\n",
              "      <td>2</td>\n",
              "      <td>1</td>\n",
              "    </tr>\n",
              "    <tr>\n",
              "      <th>1021</th>\n",
              "      <td>60</td>\n",
              "      <td>1</td>\n",
              "      <td>0</td>\n",
              "      <td>125</td>\n",
              "      <td>258</td>\n",
              "      <td>0</td>\n",
              "      <td>0</td>\n",
              "      <td>141</td>\n",
              "      <td>1</td>\n",
              "      <td>2.8</td>\n",
              "      <td>1</td>\n",
              "      <td>1</td>\n",
              "      <td>3</td>\n",
              "      <td>0</td>\n",
              "    </tr>\n",
              "    <tr>\n",
              "      <th>1022</th>\n",
              "      <td>47</td>\n",
              "      <td>1</td>\n",
              "      <td>0</td>\n",
              "      <td>110</td>\n",
              "      <td>275</td>\n",
              "      <td>0</td>\n",
              "      <td>0</td>\n",
              "      <td>118</td>\n",
              "      <td>1</td>\n",
              "      <td>1.0</td>\n",
              "      <td>1</td>\n",
              "      <td>1</td>\n",
              "      <td>2</td>\n",
              "      <td>0</td>\n",
              "    </tr>\n",
              "    <tr>\n",
              "      <th>1023</th>\n",
              "      <td>50</td>\n",
              "      <td>0</td>\n",
              "      <td>0</td>\n",
              "      <td>110</td>\n",
              "      <td>254</td>\n",
              "      <td>0</td>\n",
              "      <td>0</td>\n",
              "      <td>159</td>\n",
              "      <td>0</td>\n",
              "      <td>0.0</td>\n",
              "      <td>2</td>\n",
              "      <td>0</td>\n",
              "      <td>2</td>\n",
              "      <td>1</td>\n",
              "    </tr>\n",
              "    <tr>\n",
              "      <th>1024</th>\n",
              "      <td>54</td>\n",
              "      <td>1</td>\n",
              "      <td>0</td>\n",
              "      <td>120</td>\n",
              "      <td>188</td>\n",
              "      <td>0</td>\n",
              "      <td>1</td>\n",
              "      <td>113</td>\n",
              "      <td>0</td>\n",
              "      <td>1.4</td>\n",
              "      <td>1</td>\n",
              "      <td>1</td>\n",
              "      <td>3</td>\n",
              "      <td>0</td>\n",
              "    </tr>\n",
              "  </tbody>\n",
              "</table>\n",
              "<p>1025 rows × 14 columns</p>\n",
              "</div>\n",
              "    <div class=\"colab-df-buttons\">\n",
              "\n",
              "  <div class=\"colab-df-container\">\n",
              "    <button class=\"colab-df-convert\" onclick=\"convertToInteractive('df-07dd5fda-6839-4094-8af1-16cecaec3239')\"\n",
              "            title=\"Convert this dataframe to an interactive table.\"\n",
              "            style=\"display:none;\">\n",
              "\n",
              "  <svg xmlns=\"http://www.w3.org/2000/svg\" height=\"24px\" viewBox=\"0 -960 960 960\">\n",
              "    <path d=\"M120-120v-720h720v720H120Zm60-500h600v-160H180v160Zm220 220h160v-160H400v160Zm0 220h160v-160H400v160ZM180-400h160v-160H180v160Zm440 0h160v-160H620v160ZM180-180h160v-160H180v160Zm440 0h160v-160H620v160Z\"/>\n",
              "  </svg>\n",
              "    </button>\n",
              "\n",
              "  <style>\n",
              "    .colab-df-container {\n",
              "      display:flex;\n",
              "      gap: 12px;\n",
              "    }\n",
              "\n",
              "    .colab-df-convert {\n",
              "      background-color: #E8F0FE;\n",
              "      border: none;\n",
              "      border-radius: 50%;\n",
              "      cursor: pointer;\n",
              "      display: none;\n",
              "      fill: #1967D2;\n",
              "      height: 32px;\n",
              "      padding: 0 0 0 0;\n",
              "      width: 32px;\n",
              "    }\n",
              "\n",
              "    .colab-df-convert:hover {\n",
              "      background-color: #E2EBFA;\n",
              "      box-shadow: 0px 1px 2px rgba(60, 64, 67, 0.3), 0px 1px 3px 1px rgba(60, 64, 67, 0.15);\n",
              "      fill: #174EA6;\n",
              "    }\n",
              "\n",
              "    .colab-df-buttons div {\n",
              "      margin-bottom: 4px;\n",
              "    }\n",
              "\n",
              "    [theme=dark] .colab-df-convert {\n",
              "      background-color: #3B4455;\n",
              "      fill: #D2E3FC;\n",
              "    }\n",
              "\n",
              "    [theme=dark] .colab-df-convert:hover {\n",
              "      background-color: #434B5C;\n",
              "      box-shadow: 0px 1px 3px 1px rgba(0, 0, 0, 0.15);\n",
              "      filter: drop-shadow(0px 1px 2px rgba(0, 0, 0, 0.3));\n",
              "      fill: #FFFFFF;\n",
              "    }\n",
              "  </style>\n",
              "\n",
              "    <script>\n",
              "      const buttonEl =\n",
              "        document.querySelector('#df-07dd5fda-6839-4094-8af1-16cecaec3239 button.colab-df-convert');\n",
              "      buttonEl.style.display =\n",
              "        google.colab.kernel.accessAllowed ? 'block' : 'none';\n",
              "\n",
              "      async function convertToInteractive(key) {\n",
              "        const element = document.querySelector('#df-07dd5fda-6839-4094-8af1-16cecaec3239');\n",
              "        const dataTable =\n",
              "          await google.colab.kernel.invokeFunction('convertToInteractive',\n",
              "                                                    [key], {});\n",
              "        if (!dataTable) return;\n",
              "\n",
              "        const docLinkHtml = 'Like what you see? Visit the ' +\n",
              "          '<a target=\"_blank\" href=https://colab.research.google.com/notebooks/data_table.ipynb>data table notebook</a>'\n",
              "          + ' to learn more about interactive tables.';\n",
              "        element.innerHTML = '';\n",
              "        dataTable['output_type'] = 'display_data';\n",
              "        await google.colab.output.renderOutput(dataTable, element);\n",
              "        const docLink = document.createElement('div');\n",
              "        docLink.innerHTML = docLinkHtml;\n",
              "        element.appendChild(docLink);\n",
              "      }\n",
              "    </script>\n",
              "  </div>\n",
              "\n",
              "\n",
              "<div id=\"df-75d8354d-5e1e-40bb-9973-275653f8d184\">\n",
              "  <button class=\"colab-df-quickchart\" onclick=\"quickchart('df-75d8354d-5e1e-40bb-9973-275653f8d184')\"\n",
              "            title=\"Suggest charts\"\n",
              "            style=\"display:none;\">\n",
              "\n",
              "<svg xmlns=\"http://www.w3.org/2000/svg\" height=\"24px\"viewBox=\"0 0 24 24\"\n",
              "     width=\"24px\">\n",
              "    <g>\n",
              "        <path d=\"M19 3H5c-1.1 0-2 .9-2 2v14c0 1.1.9 2 2 2h14c1.1 0 2-.9 2-2V5c0-1.1-.9-2-2-2zM9 17H7v-7h2v7zm4 0h-2V7h2v10zm4 0h-2v-4h2v4z\"/>\n",
              "    </g>\n",
              "</svg>\n",
              "  </button>\n",
              "\n",
              "<style>\n",
              "  .colab-df-quickchart {\n",
              "      --bg-color: #E8F0FE;\n",
              "      --fill-color: #1967D2;\n",
              "      --hover-bg-color: #E2EBFA;\n",
              "      --hover-fill-color: #174EA6;\n",
              "      --disabled-fill-color: #AAA;\n",
              "      --disabled-bg-color: #DDD;\n",
              "  }\n",
              "\n",
              "  [theme=dark] .colab-df-quickchart {\n",
              "      --bg-color: #3B4455;\n",
              "      --fill-color: #D2E3FC;\n",
              "      --hover-bg-color: #434B5C;\n",
              "      --hover-fill-color: #FFFFFF;\n",
              "      --disabled-bg-color: #3B4455;\n",
              "      --disabled-fill-color: #666;\n",
              "  }\n",
              "\n",
              "  .colab-df-quickchart {\n",
              "    background-color: var(--bg-color);\n",
              "    border: none;\n",
              "    border-radius: 50%;\n",
              "    cursor: pointer;\n",
              "    display: none;\n",
              "    fill: var(--fill-color);\n",
              "    height: 32px;\n",
              "    padding: 0;\n",
              "    width: 32px;\n",
              "  }\n",
              "\n",
              "  .colab-df-quickchart:hover {\n",
              "    background-color: var(--hover-bg-color);\n",
              "    box-shadow: 0 1px 2px rgba(60, 64, 67, 0.3), 0 1px 3px 1px rgba(60, 64, 67, 0.15);\n",
              "    fill: var(--button-hover-fill-color);\n",
              "  }\n",
              "\n",
              "  .colab-df-quickchart-complete:disabled,\n",
              "  .colab-df-quickchart-complete:disabled:hover {\n",
              "    background-color: var(--disabled-bg-color);\n",
              "    fill: var(--disabled-fill-color);\n",
              "    box-shadow: none;\n",
              "  }\n",
              "\n",
              "  .colab-df-spinner {\n",
              "    border: 2px solid var(--fill-color);\n",
              "    border-color: transparent;\n",
              "    border-bottom-color: var(--fill-color);\n",
              "    animation:\n",
              "      spin 1s steps(1) infinite;\n",
              "  }\n",
              "\n",
              "  @keyframes spin {\n",
              "    0% {\n",
              "      border-color: transparent;\n",
              "      border-bottom-color: var(--fill-color);\n",
              "      border-left-color: var(--fill-color);\n",
              "    }\n",
              "    20% {\n",
              "      border-color: transparent;\n",
              "      border-left-color: var(--fill-color);\n",
              "      border-top-color: var(--fill-color);\n",
              "    }\n",
              "    30% {\n",
              "      border-color: transparent;\n",
              "      border-left-color: var(--fill-color);\n",
              "      border-top-color: var(--fill-color);\n",
              "      border-right-color: var(--fill-color);\n",
              "    }\n",
              "    40% {\n",
              "      border-color: transparent;\n",
              "      border-right-color: var(--fill-color);\n",
              "      border-top-color: var(--fill-color);\n",
              "    }\n",
              "    60% {\n",
              "      border-color: transparent;\n",
              "      border-right-color: var(--fill-color);\n",
              "    }\n",
              "    80% {\n",
              "      border-color: transparent;\n",
              "      border-right-color: var(--fill-color);\n",
              "      border-bottom-color: var(--fill-color);\n",
              "    }\n",
              "    90% {\n",
              "      border-color: transparent;\n",
              "      border-bottom-color: var(--fill-color);\n",
              "    }\n",
              "  }\n",
              "</style>\n",
              "\n",
              "  <script>\n",
              "    async function quickchart(key) {\n",
              "      const quickchartButtonEl =\n",
              "        document.querySelector('#' + key + ' button');\n",
              "      quickchartButtonEl.disabled = true;  // To prevent multiple clicks.\n",
              "      quickchartButtonEl.classList.add('colab-df-spinner');\n",
              "      try {\n",
              "        const charts = await google.colab.kernel.invokeFunction(\n",
              "            'suggestCharts', [key], {});\n",
              "      } catch (error) {\n",
              "        console.error('Error during call to suggestCharts:', error);\n",
              "      }\n",
              "      quickchartButtonEl.classList.remove('colab-df-spinner');\n",
              "      quickchartButtonEl.classList.add('colab-df-quickchart-complete');\n",
              "    }\n",
              "    (() => {\n",
              "      let quickchartButtonEl =\n",
              "        document.querySelector('#df-75d8354d-5e1e-40bb-9973-275653f8d184 button');\n",
              "      quickchartButtonEl.style.display =\n",
              "        google.colab.kernel.accessAllowed ? 'block' : 'none';\n",
              "    })();\n",
              "  </script>\n",
              "</div>\n",
              "    </div>\n",
              "  </div>\n"
            ]
          },
          "metadata": {},
          "execution_count": 99
        }
      ]
    },
    {
      "cell_type": "markdown",
      "source": [
        "***SEPERATING THE DATASET INTO INPUT AND OUTPUT***"
      ],
      "metadata": {
        "id": "81kxmDrOfTRE"
      }
    },
    {
      "cell_type": "code",
      "source": [
        "x=df.iloc[:,:-1].values\n",
        "y=df.iloc[:,-1].values"
      ],
      "metadata": {
        "id": "S7deToZVfR9H"
      },
      "execution_count": null,
      "outputs": []
    },
    {
      "cell_type": "code",
      "source": [
        "x"
      ],
      "metadata": {
        "colab": {
          "base_uri": "https://localhost:8080/"
        },
        "id": "AbfrLAwPf1gC",
        "outputId": "1bffb814-b35d-431f-b49a-9bb0572e88f4"
      },
      "execution_count": null,
      "outputs": [
        {
          "output_type": "execute_result",
          "data": {
            "text/plain": [
              "array([[52.,  1.,  0., ...,  2.,  2.,  3.],\n",
              "       [53.,  1.,  0., ...,  0.,  0.,  3.],\n",
              "       [70.,  1.,  0., ...,  0.,  0.,  3.],\n",
              "       ...,\n",
              "       [47.,  1.,  0., ...,  1.,  1.,  2.],\n",
              "       [50.,  0.,  0., ...,  2.,  0.,  2.],\n",
              "       [54.,  1.,  0., ...,  1.,  1.,  3.]])"
            ]
          },
          "metadata": {},
          "execution_count": 101
        }
      ]
    },
    {
      "cell_type": "code",
      "source": [
        "y"
      ],
      "metadata": {
        "colab": {
          "base_uri": "https://localhost:8080/"
        },
        "id": "1O_cXdjUf3-n",
        "outputId": "8d759a46-acfb-4dad-c7d2-895cb78f0178"
      },
      "execution_count": null,
      "outputs": [
        {
          "output_type": "execute_result",
          "data": {
            "text/plain": [
              "array([0, 0, 0, ..., 0, 1, 0])"
            ]
          },
          "metadata": {},
          "execution_count": 102
        }
      ]
    },
    {
      "cell_type": "markdown",
      "source": [
        "***SPLITTING THE DATASET FOR TRAINING AND TESTING***"
      ],
      "metadata": {
        "id": "3p-VfsHYf6gZ"
      }
    },
    {
      "cell_type": "code",
      "source": [
        "x_train,x_test,y_train,y_test=train_test_split(x,y,test_size=0.2,random_state=42)"
      ],
      "metadata": {
        "id": "INhBUClNf_up"
      },
      "execution_count": null,
      "outputs": []
    },
    {
      "cell_type": "markdown",
      "source": [
        "train_test_split: This function splits the dataset into training and testing sets. test_size=0.2 means that 20% of the data will be used for testing."
      ],
      "metadata": {
        "id": "sQzcXNBngLpP"
      }
    },
    {
      "cell_type": "markdown",
      "source": [
        "***STANDARDIZATION***"
      ],
      "metadata": {
        "id": "YbqksvFbgNR_"
      }
    },
    {
      "cell_type": "code",
      "source": [
        "scaler=StandardScaler()\n",
        "x_train=scaler.fit_transform(x_train)\n",
        "x_test=scaler.fit_transform(x_test)"
      ],
      "metadata": {
        "id": "vVBI9vjdgTC2"
      },
      "execution_count": null,
      "outputs": []
    },
    {
      "cell_type": "markdown",
      "source": [
        "Feature Standardization: It's common to standardize features (mean=0, variance=1) to facilitate learning in neural networks."
      ],
      "metadata": {
        "id": "njoZwGf_gjCJ"
      }
    },
    {
      "cell_type": "markdown",
      "source": [
        "***MODEL CREATION***"
      ],
      "metadata": {
        "id": "oRgjEXoUgkxo"
      }
    },
    {
      "cell_type": "code",
      "source": [
        "x_train.shape"
      ],
      "metadata": {
        "colab": {
          "base_uri": "https://localhost:8080/"
        },
        "id": "hJ-NidP6h0jk",
        "outputId": "193569f1-be42-476c-d5ac-05abfd1abfe4"
      },
      "execution_count": null,
      "outputs": [
        {
          "output_type": "execute_result",
          "data": {
            "text/plain": [
              "(820, 13)"
            ]
          },
          "metadata": {},
          "execution_count": 105
        }
      ]
    },
    {
      "cell_type": "code",
      "source": [
        "model=keras.Sequential([\n",
        "    layers.Dense(units=64,activation='relu',input_dim=x_train.shape[1]),\n",
        "    layers.Dense(units=1,activation='sigmoid')\n",
        "])"
      ],
      "metadata": {
        "id": "GofwZ4ycgpqY"
      },
      "execution_count": null,
      "outputs": []
    },
    {
      "cell_type": "markdown",
      "source": [
        "The neural network architecture consists of two layers:\n",
        "\n",
        "Hidden Layer:\n",
        "\n",
        "Type: Dense (Fully Connected)\n",
        "Number of Neurons: 64\n",
        "Activation Function: ReLU (Rectified Linear Unit)\n",
        "The purpose of the hidden layer is to capture complex patterns and relationships within the input data. The ReLU activation function is commonly used in hidden layers to introduce non-linearity, allowing the model to learn and represent more complex functions.\n",
        "\n",
        "Output Layer:\n",
        "\n",
        "Type: Dense (Fully Connected)\n",
        "Number of Neurons: 1\n",
        "Activation Function: Sigmoid\n",
        "The output layer has 1 neuron because this is a binary classification problem (0 or 1). The sigmoid activation function is used in the output layer for binary classification tasks. It squashes the output values to a range between 0 and 1, representing the probability of the sample belonging to class 1.\n",
        "\n",
        "Explanation:\n",
        "\n",
        "The hidden layer with ReLU activation helps the model learn complex patterns in the input data. The ReLU activation sets all negative values to zero and passes positive values as-is.\n",
        "\n",
        "The output layer with a single neuron and sigmoid activation is common for binary classification. The sigmoid function compresses the output to a range between 0 and 1, and values closer to 1 indicate a higher probability of belonging to class 1.\n",
        "Now, focusing on input_dim=X_train.shape[1]:\n",
        "\n",
        "X_train.shape[1]: This extracts the number of features (or input dimensions) in your training data. The shape[1] is accessing the second dimension of the shape, which corresponds to the number of features.\n",
        "So, input_dim=X_train.shape[1] specifies that the input dimension of the first layer is equal to the number of features in your training data. This is crucial because the neural network needs to know the size of the input it will receive for each sample."
      ],
      "metadata": {
        "id": "de1IVSlzhN8M"
      }
    },
    {
      "cell_type": "markdown",
      "source": [
        "***MODEL COMPILATION***"
      ],
      "metadata": {
        "id": "QLvKCFx5iY1T"
      }
    },
    {
      "cell_type": "code",
      "source": [
        "model.compile(optimizer='adam',loss='binary_crossentropy',metrics='accuracy')"
      ],
      "metadata": {
        "id": "8DppO2zfifvg"
      },
      "execution_count": null,
      "outputs": []
    },
    {
      "cell_type": "markdown",
      "source": [
        "Compilation: Specifying the optimizer, loss function, and metrics for the model. Here, we use the Adam optimizer and binary crossentropy loss for binary classification."
      ],
      "metadata": {
        "id": "t2azcwm3ioUd"
      }
    },
    {
      "cell_type": "code",
      "source": [
        "from tensorflow.keras.callbacks import EarlyStopping\n",
        "\n",
        "early_stopping = EarlyStopping(monitor='val_loss', patience=5, restore_best_weights=True)\n"
      ],
      "metadata": {
        "id": "IF9uDXBgnVG9"
      },
      "execution_count": null,
      "outputs": []
    },
    {
      "cell_type": "markdown",
      "source": [
        "In the above example, the EarlyStopping callback is included in the callbacks parameter of the fit method. The patience parameter is set to 5, meaning that training will stop if the validation loss does not improve for 5 consecutive epochs. The restore_best_weights parameter ensures that the model's weights are restored to the best values when training stops.\n",
        "\n",
        "You can place the EarlyStopping callback after configuring your model and before training it. It's a good practice to monitor the validation loss for early stopping, as it helps prevent overfitting and ensures that the model generalizes well to new data."
      ],
      "metadata": {
        "id": "crDqxAuwoEGJ"
      }
    },
    {
      "cell_type": "markdown",
      "source": [
        "***MODEL TRAINING***"
      ],
      "metadata": {
        "id": "88OJrqA7isuV"
      }
    },
    {
      "cell_type": "code",
      "source": [
        "history=model.fit(x_train, y_train, epochs=100, validation_split=0.1,batch_size=32 ,callbacks=[early_stopping])\n"
      ],
      "metadata": {
        "colab": {
          "base_uri": "https://localhost:8080/"
        },
        "id": "MP2nhJz8nfDb",
        "outputId": "e517149f-ba5b-4faf-ca99-b9b767d5a209"
      },
      "execution_count": null,
      "outputs": [
        {
          "output_type": "stream",
          "name": "stdout",
          "text": [
            "Epoch 1/100\n",
            "24/24 [==============================] - 1s 14ms/step - loss: 0.5655 - accuracy: 0.7195 - val_loss: 0.5547 - val_accuracy: 0.7683\n",
            "Epoch 2/100\n",
            "24/24 [==============================] - 0s 7ms/step - loss: 0.4422 - accuracy: 0.8360 - val_loss: 0.5072 - val_accuracy: 0.7805\n",
            "Epoch 3/100\n",
            "24/24 [==============================] - 0s 4ms/step - loss: 0.3808 - accuracy: 0.8618 - val_loss: 0.4841 - val_accuracy: 0.8049\n",
            "Epoch 4/100\n",
            "24/24 [==============================] - 0s 2ms/step - loss: 0.3490 - accuracy: 0.8618 - val_loss: 0.4762 - val_accuracy: 0.8049\n",
            "Epoch 5/100\n",
            "24/24 [==============================] - 0s 3ms/step - loss: 0.3291 - accuracy: 0.8659 - val_loss: 0.4727 - val_accuracy: 0.8293\n",
            "Epoch 6/100\n",
            "24/24 [==============================] - 0s 2ms/step - loss: 0.3164 - accuracy: 0.8808 - val_loss: 0.4706 - val_accuracy: 0.8171\n",
            "Epoch 7/100\n",
            "24/24 [==============================] - 0s 2ms/step - loss: 0.3086 - accuracy: 0.8794 - val_loss: 0.4810 - val_accuracy: 0.8171\n",
            "Epoch 8/100\n",
            "24/24 [==============================] - 0s 2ms/step - loss: 0.3012 - accuracy: 0.8821 - val_loss: 0.4765 - val_accuracy: 0.8171\n",
            "Epoch 9/100\n",
            "24/24 [==============================] - 0s 3ms/step - loss: 0.2938 - accuracy: 0.8916 - val_loss: 0.4715 - val_accuracy: 0.8171\n",
            "Epoch 10/100\n",
            "24/24 [==============================] - 0s 3ms/step - loss: 0.2882 - accuracy: 0.8943 - val_loss: 0.4702 - val_accuracy: 0.8171\n",
            "Epoch 11/100\n",
            "24/24 [==============================] - 0s 2ms/step - loss: 0.2829 - accuracy: 0.8957 - val_loss: 0.4642 - val_accuracy: 0.8293\n",
            "Epoch 12/100\n",
            "24/24 [==============================] - 0s 2ms/step - loss: 0.2779 - accuracy: 0.8984 - val_loss: 0.4636 - val_accuracy: 0.8293\n",
            "Epoch 13/100\n",
            "24/24 [==============================] - 0s 3ms/step - loss: 0.2746 - accuracy: 0.8957 - val_loss: 0.4738 - val_accuracy: 0.8293\n",
            "Epoch 14/100\n",
            "24/24 [==============================] - 0s 2ms/step - loss: 0.2699 - accuracy: 0.9051 - val_loss: 0.4646 - val_accuracy: 0.8415\n",
            "Epoch 15/100\n",
            "24/24 [==============================] - 0s 2ms/step - loss: 0.2655 - accuracy: 0.9106 - val_loss: 0.4623 - val_accuracy: 0.8415\n",
            "Epoch 16/100\n",
            "24/24 [==============================] - 0s 2ms/step - loss: 0.2619 - accuracy: 0.9119 - val_loss: 0.4566 - val_accuracy: 0.8415\n",
            "Epoch 17/100\n",
            "24/24 [==============================] - 0s 2ms/step - loss: 0.2585 - accuracy: 0.9106 - val_loss: 0.4532 - val_accuracy: 0.8537\n",
            "Epoch 18/100\n",
            "24/24 [==============================] - 0s 2ms/step - loss: 0.2559 - accuracy: 0.9173 - val_loss: 0.4514 - val_accuracy: 0.8415\n",
            "Epoch 19/100\n",
            "24/24 [==============================] - 0s 2ms/step - loss: 0.2528 - accuracy: 0.9201 - val_loss: 0.4496 - val_accuracy: 0.8415\n",
            "Epoch 20/100\n",
            "24/24 [==============================] - 0s 2ms/step - loss: 0.2488 - accuracy: 0.9201 - val_loss: 0.4444 - val_accuracy: 0.8537\n",
            "Epoch 21/100\n",
            "24/24 [==============================] - 0s 2ms/step - loss: 0.2455 - accuracy: 0.9201 - val_loss: 0.4402 - val_accuracy: 0.8293\n",
            "Epoch 22/100\n",
            "24/24 [==============================] - 0s 2ms/step - loss: 0.2424 - accuracy: 0.9228 - val_loss: 0.4380 - val_accuracy: 0.8415\n",
            "Epoch 23/100\n",
            "24/24 [==============================] - 0s 2ms/step - loss: 0.2403 - accuracy: 0.9201 - val_loss: 0.4347 - val_accuracy: 0.8415\n",
            "Epoch 24/100\n",
            "24/24 [==============================] - 0s 3ms/step - loss: 0.2356 - accuracy: 0.9241 - val_loss: 0.4307 - val_accuracy: 0.8415\n",
            "Epoch 25/100\n",
            "24/24 [==============================] - 0s 2ms/step - loss: 0.2330 - accuracy: 0.9241 - val_loss: 0.4285 - val_accuracy: 0.8415\n",
            "Epoch 26/100\n",
            "24/24 [==============================] - 0s 3ms/step - loss: 0.2298 - accuracy: 0.9241 - val_loss: 0.4220 - val_accuracy: 0.8415\n",
            "Epoch 27/100\n",
            "24/24 [==============================] - 0s 2ms/step - loss: 0.2261 - accuracy: 0.9268 - val_loss: 0.4188 - val_accuracy: 0.8415\n",
            "Epoch 28/100\n",
            "24/24 [==============================] - 0s 3ms/step - loss: 0.2249 - accuracy: 0.9282 - val_loss: 0.4021 - val_accuracy: 0.8659\n",
            "Epoch 29/100\n",
            "24/24 [==============================] - 0s 3ms/step - loss: 0.2212 - accuracy: 0.9282 - val_loss: 0.4023 - val_accuracy: 0.8415\n",
            "Epoch 30/100\n",
            "24/24 [==============================] - 0s 3ms/step - loss: 0.2181 - accuracy: 0.9309 - val_loss: 0.4006 - val_accuracy: 0.8415\n",
            "Epoch 31/100\n",
            "24/24 [==============================] - 0s 4ms/step - loss: 0.2151 - accuracy: 0.9255 - val_loss: 0.4008 - val_accuracy: 0.8415\n",
            "Epoch 32/100\n",
            "24/24 [==============================] - 0s 3ms/step - loss: 0.2125 - accuracy: 0.9255 - val_loss: 0.3933 - val_accuracy: 0.8415\n",
            "Epoch 33/100\n",
            "24/24 [==============================] - 0s 3ms/step - loss: 0.2100 - accuracy: 0.9268 - val_loss: 0.3828 - val_accuracy: 0.8415\n",
            "Epoch 34/100\n",
            "24/24 [==============================] - 0s 3ms/step - loss: 0.2062 - accuracy: 0.9228 - val_loss: 0.3800 - val_accuracy: 0.8415\n",
            "Epoch 35/100\n",
            "24/24 [==============================] - 0s 3ms/step - loss: 0.2027 - accuracy: 0.9268 - val_loss: 0.3843 - val_accuracy: 0.8293\n",
            "Epoch 36/100\n",
            "24/24 [==============================] - 0s 3ms/step - loss: 0.2001 - accuracy: 0.9268 - val_loss: 0.3818 - val_accuracy: 0.8293\n",
            "Epoch 37/100\n",
            "24/24 [==============================] - 0s 3ms/step - loss: 0.1976 - accuracy: 0.9282 - val_loss: 0.3793 - val_accuracy: 0.8293\n",
            "Epoch 38/100\n",
            "24/24 [==============================] - 0s 3ms/step - loss: 0.1943 - accuracy: 0.9309 - val_loss: 0.3754 - val_accuracy: 0.8293\n",
            "Epoch 39/100\n",
            "24/24 [==============================] - 0s 3ms/step - loss: 0.1921 - accuracy: 0.9322 - val_loss: 0.3699 - val_accuracy: 0.8415\n",
            "Epoch 40/100\n",
            "24/24 [==============================] - 0s 3ms/step - loss: 0.1885 - accuracy: 0.9336 - val_loss: 0.3697 - val_accuracy: 0.8293\n",
            "Epoch 41/100\n",
            "24/24 [==============================] - 0s 4ms/step - loss: 0.1861 - accuracy: 0.9322 - val_loss: 0.3609 - val_accuracy: 0.8415\n",
            "Epoch 42/100\n",
            "24/24 [==============================] - 0s 4ms/step - loss: 0.1836 - accuracy: 0.9350 - val_loss: 0.3613 - val_accuracy: 0.8415\n",
            "Epoch 43/100\n",
            "24/24 [==============================] - 0s 3ms/step - loss: 0.1813 - accuracy: 0.9390 - val_loss: 0.3734 - val_accuracy: 0.8415\n",
            "Epoch 44/100\n",
            "24/24 [==============================] - 0s 4ms/step - loss: 0.1786 - accuracy: 0.9390 - val_loss: 0.3664 - val_accuracy: 0.8293\n",
            "Epoch 45/100\n",
            "24/24 [==============================] - 0s 3ms/step - loss: 0.1756 - accuracy: 0.9390 - val_loss: 0.3582 - val_accuracy: 0.8293\n",
            "Epoch 46/100\n",
            "24/24 [==============================] - 0s 3ms/step - loss: 0.1729 - accuracy: 0.9390 - val_loss: 0.3557 - val_accuracy: 0.8293\n",
            "Epoch 47/100\n",
            "24/24 [==============================] - 0s 4ms/step - loss: 0.1713 - accuracy: 0.9377 - val_loss: 0.3561 - val_accuracy: 0.8293\n",
            "Epoch 48/100\n",
            "24/24 [==============================] - 0s 4ms/step - loss: 0.1675 - accuracy: 0.9377 - val_loss: 0.3522 - val_accuracy: 0.8293\n",
            "Epoch 49/100\n",
            "24/24 [==============================] - 0s 4ms/step - loss: 0.1655 - accuracy: 0.9404 - val_loss: 0.3469 - val_accuracy: 0.8537\n",
            "Epoch 50/100\n",
            "24/24 [==============================] - 0s 4ms/step - loss: 0.1644 - accuracy: 0.9431 - val_loss: 0.3439 - val_accuracy: 0.8659\n",
            "Epoch 51/100\n",
            "24/24 [==============================] - 0s 3ms/step - loss: 0.1617 - accuracy: 0.9417 - val_loss: 0.3420 - val_accuracy: 0.8659\n",
            "Epoch 52/100\n",
            "24/24 [==============================] - 0s 4ms/step - loss: 0.1585 - accuracy: 0.9377 - val_loss: 0.3380 - val_accuracy: 0.8537\n",
            "Epoch 53/100\n",
            "24/24 [==============================] - 0s 3ms/step - loss: 0.1560 - accuracy: 0.9390 - val_loss: 0.3320 - val_accuracy: 0.8537\n",
            "Epoch 54/100\n",
            "24/24 [==============================] - 0s 5ms/step - loss: 0.1541 - accuracy: 0.9404 - val_loss: 0.3326 - val_accuracy: 0.8537\n",
            "Epoch 55/100\n",
            "24/24 [==============================] - 0s 4ms/step - loss: 0.1507 - accuracy: 0.9390 - val_loss: 0.3322 - val_accuracy: 0.8537\n",
            "Epoch 56/100\n",
            "24/24 [==============================] - 0s 5ms/step - loss: 0.1483 - accuracy: 0.9404 - val_loss: 0.3332 - val_accuracy: 0.8537\n",
            "Epoch 57/100\n",
            "24/24 [==============================] - 0s 5ms/step - loss: 0.1466 - accuracy: 0.9431 - val_loss: 0.3280 - val_accuracy: 0.8537\n",
            "Epoch 58/100\n",
            "24/24 [==============================] - 0s 3ms/step - loss: 0.1445 - accuracy: 0.9431 - val_loss: 0.3238 - val_accuracy: 0.8537\n",
            "Epoch 59/100\n",
            "24/24 [==============================] - 0s 4ms/step - loss: 0.1421 - accuracy: 0.9431 - val_loss: 0.3247 - val_accuracy: 0.8537\n",
            "Epoch 60/100\n",
            "24/24 [==============================] - 0s 4ms/step - loss: 0.1403 - accuracy: 0.9431 - val_loss: 0.3264 - val_accuracy: 0.8415\n",
            "Epoch 61/100\n",
            "24/24 [==============================] - 0s 4ms/step - loss: 0.1379 - accuracy: 0.9417 - val_loss: 0.3278 - val_accuracy: 0.8415\n",
            "Epoch 62/100\n",
            "24/24 [==============================] - 0s 5ms/step - loss: 0.1361 - accuracy: 0.9417 - val_loss: 0.3221 - val_accuracy: 0.8537\n",
            "Epoch 63/100\n",
            "24/24 [==============================] - 0s 4ms/step - loss: 0.1338 - accuracy: 0.9417 - val_loss: 0.3214 - val_accuracy: 0.8537\n",
            "Epoch 64/100\n",
            "24/24 [==============================] - 0s 4ms/step - loss: 0.1319 - accuracy: 0.9444 - val_loss: 0.3212 - val_accuracy: 0.8780\n",
            "Epoch 65/100\n",
            "24/24 [==============================] - 0s 3ms/step - loss: 0.1298 - accuracy: 0.9593 - val_loss: 0.3163 - val_accuracy: 0.8902\n",
            "Epoch 66/100\n",
            "24/24 [==============================] - 0s 4ms/step - loss: 0.1296 - accuracy: 0.9526 - val_loss: 0.3164 - val_accuracy: 0.8659\n",
            "Epoch 67/100\n",
            "24/24 [==============================] - 0s 3ms/step - loss: 0.1270 - accuracy: 0.9539 - val_loss: 0.3187 - val_accuracy: 0.8659\n",
            "Epoch 68/100\n",
            "24/24 [==============================] - 0s 3ms/step - loss: 0.1244 - accuracy: 0.9580 - val_loss: 0.3174 - val_accuracy: 0.8780\n",
            "Epoch 69/100\n",
            "24/24 [==============================] - 0s 3ms/step - loss: 0.1234 - accuracy: 0.9621 - val_loss: 0.3177 - val_accuracy: 0.8780\n",
            "Epoch 70/100\n",
            "24/24 [==============================] - 0s 3ms/step - loss: 0.1205 - accuracy: 0.9634 - val_loss: 0.3087 - val_accuracy: 0.8902\n",
            "Epoch 71/100\n",
            "24/24 [==============================] - 0s 3ms/step - loss: 0.1191 - accuracy: 0.9729 - val_loss: 0.3024 - val_accuracy: 0.8902\n",
            "Epoch 72/100\n",
            "24/24 [==============================] - 0s 3ms/step - loss: 0.1175 - accuracy: 0.9715 - val_loss: 0.3029 - val_accuracy: 0.9024\n",
            "Epoch 73/100\n",
            "24/24 [==============================] - 0s 3ms/step - loss: 0.1160 - accuracy: 0.9743 - val_loss: 0.3040 - val_accuracy: 0.9024\n",
            "Epoch 74/100\n",
            "24/24 [==============================] - 0s 4ms/step - loss: 0.1160 - accuracy: 0.9675 - val_loss: 0.2989 - val_accuracy: 0.8659\n",
            "Epoch 75/100\n",
            "24/24 [==============================] - 0s 3ms/step - loss: 0.1142 - accuracy: 0.9715 - val_loss: 0.2953 - val_accuracy: 0.9024\n",
            "Epoch 76/100\n",
            "24/24 [==============================] - 0s 2ms/step - loss: 0.1117 - accuracy: 0.9770 - val_loss: 0.3027 - val_accuracy: 0.9024\n",
            "Epoch 77/100\n",
            "24/24 [==============================] - 0s 3ms/step - loss: 0.1100 - accuracy: 0.9743 - val_loss: 0.2972 - val_accuracy: 0.9024\n",
            "Epoch 78/100\n",
            "24/24 [==============================] - 0s 3ms/step - loss: 0.1087 - accuracy: 0.9770 - val_loss: 0.2985 - val_accuracy: 0.9146\n",
            "Epoch 79/100\n",
            "24/24 [==============================] - 0s 4ms/step - loss: 0.1083 - accuracy: 0.9770 - val_loss: 0.3100 - val_accuracy: 0.8659\n",
            "Epoch 80/100\n",
            "24/24 [==============================] - 0s 3ms/step - loss: 0.1116 - accuracy: 0.9797 - val_loss: 0.3209 - val_accuracy: 0.8537\n"
          ]
        }
      ]
    },
    {
      "cell_type": "markdown",
      "source": [
        "Training: Using the fit method to train the model. We train for 100 epochs with a batch size of 32. validation_split=0.1 means that 10% of the training data is used for validation. But due to EarlyStopping training stops earlier to avoid overfitting."
      ],
      "metadata": {
        "id": "Hdt-8WGPi_Qp"
      }
    },
    {
      "cell_type": "markdown",
      "source": [
        "***MODEL EVALUATION***"
      ],
      "metadata": {
        "id": "DlxHIUK8jBdO"
      }
    },
    {
      "cell_type": "code",
      "source": [
        "test_loss,test_accuracy = model.evaluate(x_test,y_test)\n",
        "print(test_loss,test_accuracy)"
      ],
      "metadata": {
        "colab": {
          "base_uri": "https://localhost:8080/"
        },
        "id": "_K4vLabBjEeq",
        "outputId": "8649e21b-f59a-4d30-806f-a176332e4d57"
      },
      "execution_count": null,
      "outputs": [
        {
          "output_type": "stream",
          "name": "stdout",
          "text": [
            "7/7 [==============================] - 0s 2ms/step - loss: 0.2283 - accuracy: 0.9024\n",
            "0.22827991843223572 0.9024389982223511\n"
          ]
        }
      ]
    },
    {
      "cell_type": "markdown",
      "source": [
        "Evaluation: Using the evaluate method to assess the model's performance on the test set."
      ],
      "metadata": {
        "id": "Ny5rVeiEjb5m"
      }
    },
    {
      "cell_type": "markdown",
      "source": [
        "***PLOTTING TRAINING AND VALIDATION-LOSS AND ACCURACY***"
      ],
      "metadata": {
        "id": "OqB3zoYmjffw"
      }
    },
    {
      "cell_type": "code",
      "source": [
        "# Plot training and validation loss\n",
        "plt.figure(figsize=(12, 6))\n",
        "\n",
        "plt.subplot(1, 2, 1)\n",
        "plt.plot(history.history['loss'], label='Training Loss')\n",
        "plt.plot(history.history['val_loss'], label='Validation Loss')\n",
        "plt.title('Training and Validation Loss')\n",
        "plt.xlabel('Epoch')\n",
        "plt.ylabel('Loss')\n",
        "plt.legend()\n",
        "\n",
        "# Plot training and validation accuracy\n",
        "plt.subplot(1, 2, 2)\n",
        "plt.plot(history.history['accuracy'], label='Training Accuracy')\n",
        "plt.plot(history.history['val_accuracy'], label='Validation Accuracy')\n",
        "plt.title('Training and Validation Accuracy')\n",
        "plt.xlabel('Epoch')\n",
        "plt.ylabel('Accuracy')\n",
        "plt.legend()\n",
        "\n",
        "plt.tight_layout()\n",
        "plt.show()\n"
      ],
      "metadata": {
        "colab": {
          "base_uri": "https://localhost:8080/",
          "height": 569
        },
        "id": "hJStjECOjnla",
        "outputId": "d94f1099-847a-4736-9c0e-29d17469aeba"
      },
      "execution_count": null,
      "outputs": [
        {
          "output_type": "display_data",
          "data": {
            "text/plain": [
              "<Figure size 1200x600 with 2 Axes>"
            ],
            "image/png": "[encoded data removed]"
          },
          "metadata": {}
        }
      ]
    },
    {
      "cell_type": "markdown",
      "source": [
        "Plotting: Creating plots to visualize the training and validation loss, as well as training and validation accuracy over epochs."
      ],
      "metadata": {
        "id": "klEh_J1bjyEx"
      }
    },
    {
      "cell_type": "markdown",
      "source": [
        "Plotting loss and accuracy curves during the training of a neural network is a valuable practice to understand how well your model is learning. Here's how you can interpret the information from these plots:\n",
        "\n",
        "### Loss Curve:\n",
        "\n",
        "1. **Training Loss:**\n",
        "   - Represents the error on the training set during each epoch.\n",
        "   - Ideally, you want to see a decreasing trend over epochs, indicating that the model is learning and improving its performance on the training data.\n",
        "   - If the training loss is decreasing, it suggests that the model is fitting the training data well.\n",
        "\n",
        "2. **Validation Loss:**\n",
        "   - Represents the error on a separate validation set during each epoch.\n",
        "   - Helps you monitor the generalization performance of the model. A good model should not only fit the training data well but also generalize well to new, unseen data.\n",
        "   - If the validation loss is decreasing along with the training loss, it suggests that the model is not overfitting and is likely to generalize well.\n",
        "\n",
        "3. **Comparison:**\n",
        "   - If the training loss continues to decrease while the validation loss starts increasing or remains constant, it might indicate overfitting. The model is becoming too specialized to the training data and may not generalize well.\n",
        "\n",
        "### Accuracy Curve:\n",
        "\n",
        "1. **Training Accuracy:**\n",
        "   - Represents the classification accuracy on the training set during each epoch.\n",
        "   - It shows the percentage of correctly classified samples in the training set.\n",
        "   - An increasing trend indicates that the model is learning to classify the training data more accurately.\n",
        "\n",
        "2. **Validation Accuracy:**\n",
        "   - Represents the classification accuracy on the validation set during each epoch.\n",
        "   - Similar to validation loss, it helps you assess how well the model generalizes to new data.\n",
        "   - An increasing trend indicates good generalization.\n",
        "\n",
        "3. **Comparison:**\n",
        "   - If the training accuracy is high, but the validation accuracy is significantly lower, it might suggest overfitting. The model is memorizing the training data but not performing well on new data.\n",
        "\n",
        "### Tips:\n",
        "\n",
        "- **Ideal Scenario:**\n",
        "  - Decreasing training loss and validation loss.\n",
        "  - Increasing training accuracy and validation accuracy.\n",
        "  \n",
        "- **Overfitting:**\n",
        "  - If training loss decreases while validation loss increases or remains high, it might indicate overfitting.\n",
        "  - Consider techniques like regularization, dropout, or using more data to mitigate overfitting.\n",
        "\n",
        "- **Underfitting:**\n",
        "  - If both training and validation loss are high and accuracy is low, it might indicate underfitting.\n",
        "  - Consider increasing model complexity, adding features, or training for more epochs.\n",
        "\n",
        "By monitoring these curves, you can make informed decisions about the model's performance and take steps to improve it if needed."
      ],
      "metadata": {
        "id": "kwGuOiVllm19"
      }
    }
  ]
}