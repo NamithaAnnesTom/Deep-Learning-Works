{
  "nbformat": 4,
  "nbformat_minor": 0,
  "metadata": {
    "colab": {
      "provenance": [],
      "authorship_tag": "ABX9TyPiJaFRn7/QphVBHxcwtrD2",
      "include_colab_link": true
    },
    "kernelspec": {
      "name": "python3",
      "display_name": "Python 3"
    },
    "language_info": {
      "name": "python"
    }
  },
  "cells": [
    {
      "cell_type": "markdown",
      "metadata": {
        "id": "view-in-github",
        "colab_type": "text"
      },
      "source": [
        "<a href=\"https://colab.research.google.com/github/NamithaAnnesTom/Deep-Learning-Works/blob/main/ArtificialNeuralNetworks1.ipynb\" target=\"_parent\"><img src=\"https://colab.research.google.com/assets/colab-badge.svg\" alt=\"Open In Colab\"/></a>"
      ]
    },
    {
      "cell_type": "markdown",
      "source": [
        "***DIABETES PREDICTION USING ANN***"
      ],
      "metadata": {
        "id": "HFC6DQLa1C7K"
      }
    },
    {
      "cell_type": "markdown",
      "source": [
        "***IMPORTING LIBRARIES***"
      ],
      "metadata": {
        "id": "HHksGF951MAq"
      }
    },
    {
      "cell_type": "code",
      "execution_count": 34,
      "metadata": {
        "id": "BNw1VAr209RW"
      },
      "outputs": [],
      "source": [
        "import numpy as np\n",
        "import pandas as pd\n",
        "import tensorflow as tf\n",
        "from tensorflow import keras\n",
        "from tensorflow.keras import layers\n",
        "from sklearn.model_selection import train_test_split\n",
        "from sklearn.preprocessing import StandardScaler\n",
        "import matplotlib.pyplot as plt"
      ]
    },
    {
      "cell_type": "markdown",
      "source": [
        "***LOADING THE DATASET***"
      ],
      "metadata": {
        "id": "FxFEFQTk3rYS"
      }
    },
    {
      "cell_type": "code",
      "source": [
        "df=pd.read_csv('/content/diabetes.csv')\n",
        "df"
      ],
      "metadata": {
        "colab": {
          "base_uri": "https://localhost:8080/",
          "height": 423
        },
        "id": "C8taXXBG3vJD",
        "outputId": "df9ce1db-08ba-4919-d554-db704fb942c2"
      },
      "execution_count": 35,
      "outputs": [
        {
          "output_type": "execute_result",
          "data": {
            "text/plain": [
              "     Pregnancies  Glucose  BloodPressure  SkinThickness  Insulin   BMI  \\\n",
              "0              6      148             72             35        0  33.6   \n",
              "1              1       85             66             29        0  26.6   \n",
              "2              8      183             64              0        0  23.3   \n",
              "3              1       89             66             23       94  28.1   \n",
              "4              0      137             40             35      168  43.1   \n",
              "..           ...      ...            ...            ...      ...   ...   \n",
              "763           10      101             76             48      180  32.9   \n",
              "764            2      122             70             27        0  36.8   \n",
              "765            5      121             72             23      112  26.2   \n",
              "766            1      126             60              0        0  30.1   \n",
              "767            1       93             70             31        0  30.4   \n",
              "\n",
              "     DiabetesPedigreeFunction  Age  Outcome  \n",
              "0                       0.627   50        1  \n",
              "1                       0.351   31        0  \n",
              "2                       0.672   32        1  \n",
              "3                       0.167   21        0  \n",
              "4                       2.288   33        1  \n",
              "..                        ...  ...      ...  \n",
              "763                     0.171   63        0  \n",
              "764                     0.340   27        0  \n",
              "765                     0.245   30        0  \n",
              "766                     0.349   47        1  \n",
              "767                     0.315   23        0  \n",
              "\n",
              "[768 rows x 9 columns]"
            ],
            "text/html": [
              "\n",
              "  <div id=\"df-0bccc0c1-9e8d-4156-afc9-d85c1fe28066\" class=\"colab-df-container\">\n",
              "    <div>\n",
              "<style scoped>\n",
              "    .dataframe tbody tr th:only-of-type {\n",
              "        vertical-align: middle;\n",
              "    }\n",
              "\n",
              "    .dataframe tbody tr th {\n",
              "        vertical-align: top;\n",
              "    }\n",
              "\n",
              "    .dataframe thead th {\n",
              "        text-align: right;\n",
              "    }\n",
              "</style>\n",
              "<table border=\"1\" class=\"dataframe\">\n",
              "  <thead>\n",
              "    <tr style=\"text-align: right;\">\n",
              "      <th></th>\n",
              "      <th>Pregnancies</th>\n",
              "      <th>Glucose</th>\n",
              "      <th>BloodPressure</th>\n",
              "      <th>SkinThickness</th>\n",
              "      <th>Insulin</th>\n",
              "      <th>BMI</th>\n",
              "      <th>DiabetesPedigreeFunction</th>\n",
              "      <th>Age</th>\n",
              "      <th>Outcome</th>\n",
              "    </tr>\n",
              "  </thead>\n",
              "  <tbody>\n",
              "    <tr>\n",
              "      <th>0</th>\n",
              "      <td>6</td>\n",
              "      <td>148</td>\n",
              "      <td>72</td>\n",
              "      <td>35</td>\n",
              "      <td>0</td>\n",
              "      <td>33.6</td>\n",
              "      <td>0.627</td>\n",
              "      <td>50</td>\n",
              "      <td>1</td>\n",
              "    </tr>\n",
              "    <tr>\n",
              "      <th>1</th>\n",
              "      <td>1</td>\n",
              "      <td>85</td>\n",
              "      <td>66</td>\n",
              "      <td>29</td>\n",
              "      <td>0</td>\n",
              "      <td>26.6</td>\n",
              "      <td>0.351</td>\n",
              "      <td>31</td>\n",
              "      <td>0</td>\n",
              "    </tr>\n",
              "    <tr>\n",
              "      <th>2</th>\n",
              "      <td>8</td>\n",
              "      <td>183</td>\n",
              "      <td>64</td>\n",
              "      <td>0</td>\n",
              "      <td>0</td>\n",
              "      <td>23.3</td>\n",
              "      <td>0.672</td>\n",
              "      <td>32</td>\n",
              "      <td>1</td>\n",
              "    </tr>\n",
              "    <tr>\n",
              "      <th>3</th>\n",
              "      <td>1</td>\n",
              "      <td>89</td>\n",
              "      <td>66</td>\n",
              "      <td>23</td>\n",
              "      <td>94</td>\n",
              "      <td>28.1</td>\n",
              "      <td>0.167</td>\n",
              "      <td>21</td>\n",
              "      <td>0</td>\n",
              "    </tr>\n",
              "    <tr>\n",
              "      <th>4</th>\n",
              "      <td>0</td>\n",
              "      <td>137</td>\n",
              "      <td>40</td>\n",
              "      <td>35</td>\n",
              "      <td>168</td>\n",
              "      <td>43.1</td>\n",
              "      <td>2.288</td>\n",
              "      <td>33</td>\n",
              "      <td>1</td>\n",
              "    </tr>\n",
              "    <tr>\n",
              "      <th>...</th>\n",
              "      <td>...</td>\n",
              "      <td>...</td>\n",
              "      <td>...</td>\n",
              "      <td>...</td>\n",
              "      <td>...</td>\n",
              "      <td>...</td>\n",
              "      <td>...</td>\n",
              "      <td>...</td>\n",
              "      <td>...</td>\n",
              "    </tr>\n",
              "    <tr>\n",
              "      <th>763</th>\n",
              "      <td>10</td>\n",
              "      <td>101</td>\n",
              "      <td>76</td>\n",
              "      <td>48</td>\n",
              "      <td>180</td>\n",
              "      <td>32.9</td>\n",
              "      <td>0.171</td>\n",
              "      <td>63</td>\n",
              "      <td>0</td>\n",
              "    </tr>\n",
              "    <tr>\n",
              "      <th>764</th>\n",
              "      <td>2</td>\n",
              "      <td>122</td>\n",
              "      <td>70</td>\n",
              "      <td>27</td>\n",
              "      <td>0</td>\n",
              "      <td>36.8</td>\n",
              "      <td>0.340</td>\n",
              "      <td>27</td>\n",
              "      <td>0</td>\n",
              "    </tr>\n",
              "    <tr>\n",
              "      <th>765</th>\n",
              "      <td>5</td>\n",
              "      <td>121</td>\n",
              "      <td>72</td>\n",
              "      <td>23</td>\n",
              "      <td>112</td>\n",
              "      <td>26.2</td>\n",
              "      <td>0.245</td>\n",
              "      <td>30</td>\n",
              "      <td>0</td>\n",
              "    </tr>\n",
              "    <tr>\n",
              "      <th>766</th>\n",
              "      <td>1</td>\n",
              "      <td>126</td>\n",
              "      <td>60</td>\n",
              "      <td>0</td>\n",
              "      <td>0</td>\n",
              "      <td>30.1</td>\n",
              "      <td>0.349</td>\n",
              "      <td>47</td>\n",
              "      <td>1</td>\n",
              "    </tr>\n",
              "    <tr>\n",
              "      <th>767</th>\n",
              "      <td>1</td>\n",
              "      <td>93</td>\n",
              "      <td>70</td>\n",
              "      <td>31</td>\n",
              "      <td>0</td>\n",
              "      <td>30.4</td>\n",
              "      <td>0.315</td>\n",
              "      <td>23</td>\n",
              "      <td>0</td>\n",
              "    </tr>\n",
              "  </tbody>\n",
              "</table>\n",
              "<p>768 rows × 9 columns</p>\n",
              "</div>\n",
              "    <div class=\"colab-df-buttons\">\n",
              "\n",
              "  <div class=\"colab-df-container\">\n",
              "    <button class=\"colab-df-convert\" onclick=\"convertToInteractive('df-0bccc0c1-9e8d-4156-afc9-d85c1fe28066')\"\n",
              "            title=\"Convert this dataframe to an interactive table.\"\n",
              "            style=\"display:none;\">\n",
              "\n",
              "  <svg xmlns=\"http://www.w3.org/2000/svg\" height=\"24px\" viewBox=\"0 -960 960 960\">\n",
              "    <path d=\"M120-120v-720h720v720H120Zm60-500h600v-160H180v160Zm220 220h160v-160H400v160Zm0 220h160v-160H400v160ZM180-400h160v-160H180v160Zm440 0h160v-160H620v160ZM180-180h160v-160H180v160Zm440 0h160v-160H620v160Z\"/>\n",
              "  </svg>\n",
              "    </button>\n",
              "\n",
              "  <style>\n",
              "    .colab-df-container {\n",
              "      display:flex;\n",
              "      gap: 12px;\n",
              "    }\n",
              "\n",
              "    .colab-df-convert {\n",
              "      background-color: #E8F0FE;\n",
              "      border: none;\n",
              "      border-radius: 50%;\n",
              "      cursor: pointer;\n",
              "      display: none;\n",
              "      fill: #1967D2;\n",
              "      height: 32px;\n",
              "      padding: 0 0 0 0;\n",
              "      width: 32px;\n",
              "    }\n",
              "\n",
              "    .colab-df-convert:hover {\n",
              "      background-color: #E2EBFA;\n",
              "      box-shadow: 0px 1px 2px rgba(60, 64, 67, 0.3), 0px 1px 3px 1px rgba(60, 64, 67, 0.15);\n",
              "      fill: #174EA6;\n",
              "    }\n",
              "\n",
              "    .colab-df-buttons div {\n",
              "      margin-bottom: 4px;\n",
              "    }\n",
              "\n",
              "    [theme=dark] .colab-df-convert {\n",
              "      background-color: #3B4455;\n",
              "      fill: #D2E3FC;\n",
              "    }\n",
              "\n",
              "    [theme=dark] .colab-df-convert:hover {\n",
              "      background-color: #434B5C;\n",
              "      box-shadow: 0px 1px 3px 1px rgba(0, 0, 0, 0.15);\n",
              "      filter: drop-shadow(0px 1px 2px rgba(0, 0, 0, 0.3));\n",
              "      fill: #FFFFFF;\n",
              "    }\n",
              "  </style>\n",
              "\n",
              "    <script>\n",
              "      const buttonEl =\n",
              "        document.querySelector('#df-0bccc0c1-9e8d-4156-afc9-d85c1fe28066 button.colab-df-convert');\n",
              "      buttonEl.style.display =\n",
              "        google.colab.kernel.accessAllowed ? 'block' : 'none';\n",
              "\n",
              "      async function convertToInteractive(key) {\n",
              "        const element = document.querySelector('#df-0bccc0c1-9e8d-4156-afc9-d85c1fe28066');\n",
              "        const dataTable =\n",
              "          await google.colab.kernel.invokeFunction('convertToInteractive',\n",
              "                                                    [key], {});\n",
              "        if (!dataTable) return;\n",
              "\n",
              "        const docLinkHtml = 'Like what you see? Visit the ' +\n",
              "          '<a target=\"_blank\" href=https://colab.research.google.com/notebooks/data_table.ipynb>data table notebook</a>'\n",
              "          + ' to learn more about interactive tables.';\n",
              "        element.innerHTML = '';\n",
              "        dataTable['output_type'] = 'display_data';\n",
              "        await google.colab.output.renderOutput(dataTable, element);\n",
              "        const docLink = document.createElement('div');\n",
              "        docLink.innerHTML = docLinkHtml;\n",
              "        element.appendChild(docLink);\n",
              "      }\n",
              "    </script>\n",
              "  </div>\n",
              "\n",
              "\n",
              "<div id=\"df-e59d8faa-b19d-4921-90ba-d3ca8fbffb51\">\n",
              "  <button class=\"colab-df-quickchart\" onclick=\"quickchart('df-e59d8faa-b19d-4921-90ba-d3ca8fbffb51')\"\n",
              "            title=\"Suggest charts\"\n",
              "            style=\"display:none;\">\n",
              "\n",
              "<svg xmlns=\"http://www.w3.org/2000/svg\" height=\"24px\"viewBox=\"0 0 24 24\"\n",
              "     width=\"24px\">\n",
              "    <g>\n",
              "        <path d=\"M19 3H5c-1.1 0-2 .9-2 2v14c0 1.1.9 2 2 2h14c1.1 0 2-.9 2-2V5c0-1.1-.9-2-2-2zM9 17H7v-7h2v7zm4 0h-2V7h2v10zm4 0h-2v-4h2v4z\"/>\n",
              "    </g>\n",
              "</svg>\n",
              "  </button>\n",
              "\n",
              "<style>\n",
              "  .colab-df-quickchart {\n",
              "      --bg-color: #E8F0FE;\n",
              "      --fill-color: #1967D2;\n",
              "      --hover-bg-color: #E2EBFA;\n",
              "      --hover-fill-color: #174EA6;\n",
              "      --disabled-fill-color: #AAA;\n",
              "      --disabled-bg-color: #DDD;\n",
              "  }\n",
              "\n",
              "  [theme=dark] .colab-df-quickchart {\n",
              "      --bg-color: #3B4455;\n",
              "      --fill-color: #D2E3FC;\n",
              "      --hover-bg-color: #434B5C;\n",
              "      --hover-fill-color: #FFFFFF;\n",
              "      --disabled-bg-color: #3B4455;\n",
              "      --disabled-fill-color: #666;\n",
              "  }\n",
              "\n",
              "  .colab-df-quickchart {\n",
              "    background-color: var(--bg-color);\n",
              "    border: none;\n",
              "    border-radius: 50%;\n",
              "    cursor: pointer;\n",
              "    display: none;\n",
              "    fill: var(--fill-color);\n",
              "    height: 32px;\n",
              "    padding: 0;\n",
              "    width: 32px;\n",
              "  }\n",
              "\n",
              "  .colab-df-quickchart:hover {\n",
              "    background-color: var(--hover-bg-color);\n",
              "    box-shadow: 0 1px 2px rgba(60, 64, 67, 0.3), 0 1px 3px 1px rgba(60, 64, 67, 0.15);\n",
              "    fill: var(--button-hover-fill-color);\n",
              "  }\n",
              "\n",
              "  .colab-df-quickchart-complete:disabled,\n",
              "  .colab-df-quickchart-complete:disabled:hover {\n",
              "    background-color: var(--disabled-bg-color);\n",
              "    fill: var(--disabled-fill-color);\n",
              "    box-shadow: none;\n",
              "  }\n",
              "\n",
              "  .colab-df-spinner {\n",
              "    border: 2px solid var(--fill-color);\n",
              "    border-color: transparent;\n",
              "    border-bottom-color: var(--fill-color);\n",
              "    animation:\n",
              "      spin 1s steps(1) infinite;\n",
              "  }\n",
              "\n",
              "  @keyframes spin {\n",
              "    0% {\n",
              "      border-color: transparent;\n",
              "      border-bottom-color: var(--fill-color);\n",
              "      border-left-color: var(--fill-color);\n",
              "    }\n",
              "    20% {\n",
              "      border-color: transparent;\n",
              "      border-left-color: var(--fill-color);\n",
              "      border-top-color: var(--fill-color);\n",
              "    }\n",
              "    30% {\n",
              "      border-color: transparent;\n",
              "      border-left-color: var(--fill-color);\n",
              "      border-top-color: var(--fill-color);\n",
              "      border-right-color: var(--fill-color);\n",
              "    }\n",
              "    40% {\n",
              "      border-color: transparent;\n",
              "      border-right-color: var(--fill-color);\n",
              "      border-top-color: var(--fill-color);\n",
              "    }\n",
              "    60% {\n",
              "      border-color: transparent;\n",
              "      border-right-color: var(--fill-color);\n",
              "    }\n",
              "    80% {\n",
              "      border-color: transparent;\n",
              "      border-right-color: var(--fill-color);\n",
              "      border-bottom-color: var(--fill-color);\n",
              "    }\n",
              "    90% {\n",
              "      border-color: transparent;\n",
              "      border-bottom-color: var(--fill-color);\n",
              "    }\n",
              "  }\n",
              "</style>\n",
              "\n",
              "  <script>\n",
              "    async function quickchart(key) {\n",
              "      const quickchartButtonEl =\n",
              "        document.querySelector('#' + key + ' button');\n",
              "      quickchartButtonEl.disabled = true;  // To prevent multiple clicks.\n",
              "      quickchartButtonEl.classList.add('colab-df-spinner');\n",
              "      try {\n",
              "        const charts = await google.colab.kernel.invokeFunction(\n",
              "            'suggestCharts', [key], {});\n",
              "      } catch (error) {\n",
              "        console.error('Error during call to suggestCharts:', error);\n",
              "      }\n",
              "      quickchartButtonEl.classList.remove('colab-df-spinner');\n",
              "      quickchartButtonEl.classList.add('colab-df-quickchart-complete');\n",
              "    }\n",
              "    (() => {\n",
              "      let quickchartButtonEl =\n",
              "        document.querySelector('#df-e59d8faa-b19d-4921-90ba-d3ca8fbffb51 button');\n",
              "      quickchartButtonEl.style.display =\n",
              "        google.colab.kernel.accessAllowed ? 'block' : 'none';\n",
              "    })();\n",
              "  </script>\n",
              "</div>\n",
              "    </div>\n",
              "  </div>\n"
            ]
          },
          "metadata": {},
          "execution_count": 35
        }
      ]
    },
    {
      "cell_type": "code",
      "source": [
        "df.isna().sum()"
      ],
      "metadata": {
        "colab": {
          "base_uri": "https://localhost:8080/"
        },
        "id": "b8Bq_zQT4Cud",
        "outputId": "df0c6485-5d61-4a20-a5f3-a2a23843b7ce"
      },
      "execution_count": 36,
      "outputs": [
        {
          "output_type": "execute_result",
          "data": {
            "text/plain": [
              "Pregnancies                 0\n",
              "Glucose                     0\n",
              "BloodPressure               0\n",
              "SkinThickness               0\n",
              "Insulin                     0\n",
              "BMI                         0\n",
              "DiabetesPedigreeFunction    0\n",
              "Age                         0\n",
              "Outcome                     0\n",
              "dtype: int64"
            ]
          },
          "metadata": {},
          "execution_count": 36
        }
      ]
    },
    {
      "cell_type": "code",
      "source": [
        "df.drop_duplicates(inplace=True)"
      ],
      "metadata": {
        "id": "4p-XuNMD5Goj"
      },
      "execution_count": 37,
      "outputs": []
    },
    {
      "cell_type": "markdown",
      "source": [
        "***INPUT AND OUTPUT SEPERATIONt***"
      ],
      "metadata": {
        "id": "j295WMtD4Fxl"
      }
    },
    {
      "cell_type": "code",
      "source": [
        "x=df.iloc[:,:-1]\n",
        "y=df.iloc[:,-1]"
      ],
      "metadata": {
        "id": "hum_DSnF4NZp"
      },
      "execution_count": 38,
      "outputs": []
    },
    {
      "cell_type": "markdown",
      "source": [
        "***SPLITTING THE DATASET FOR TRAINING AND TESTING***"
      ],
      "metadata": {
        "id": "NsptZH004SnV"
      }
    },
    {
      "cell_type": "code",
      "source": [
        "x_train,x_test,y_train,y_test=train_test_split(x,y,test_size=0.3,random_state=42)"
      ],
      "metadata": {
        "id": "8QGJVh8J4ZkY"
      },
      "execution_count": 39,
      "outputs": []
    },
    {
      "cell_type": "markdown",
      "source": [
        "***NORMALISATION***"
      ],
      "metadata": {
        "id": "Xh4kohD87qgs"
      }
    },
    {
      "cell_type": "code",
      "source": [
        "scaler=StandardScaler()\n",
        "x_train=scaler.fit_transform(x_train)\n",
        "x_test=scaler.fit_transform(x_test)"
      ],
      "metadata": {
        "id": "B8YYDGE67uYH"
      },
      "execution_count": 40,
      "outputs": []
    },
    {
      "cell_type": "markdown",
      "source": [
        "***MODEL CREATION***"
      ],
      "metadata": {
        "id": "apCqdcKr5jfW"
      }
    },
    {
      "cell_type": "code",
      "source": [
        "from tensorflow.keras.models import Sequential\n",
        "from tensorflow.keras.layers import Dense\n",
        "model = Sequential()\n",
        "model.add(Dense(12,input_shape=(8,),activation='relu'))\n",
        "model.add(Dense(8,activation='relu'))\n",
        "model.add(Dense(1,activation='sigmoid'))\n"
      ],
      "metadata": {
        "id": "b1DHPWIg5o3_"
      },
      "execution_count": 41,
      "outputs": []
    },
    {
      "cell_type": "markdown",
      "source": [
        "This is using the Sequential model, which is a linear stack of layers. It is a simple and straightforward way to build a neural network layer by layer. In this definition:\n",
        "\n",
        "The first layer (Dense(12, input_shape=(8,), activation='relu')) has 12 neurons, expects input with 8 features, and uses the ReLU activation function.\n",
        "The second layer (Dense(8, activation='relu')) has 8 neurons with ReLU activation.\n",
        "The third layer (Dense(1, activation='sigmoid')) has 1 neuron with a sigmoid activation function, suitable for binary classification."
      ],
      "metadata": {
        "id": "-VPXDznO6e9T"
      }
    },
    {
      "cell_type": "markdown",
      "source": [
        "***MODEL COMPILATION***"
      ],
      "metadata": {
        "id": "W03IU2Yr66cb"
      }
    },
    {
      "cell_type": "code",
      "source": [
        "model.compile(loss='binary_crossentropy',optimizer='adam',metrics=['accuracy'])"
      ],
      "metadata": {
        "id": "jL6mdmn16_nV"
      },
      "execution_count": 42,
      "outputs": []
    },
    {
      "cell_type": "markdown",
      "source": [
        "***MODEL TRAINING***"
      ],
      "metadata": {
        "id": "fKtv2rou7ebU"
      }
    },
    {
      "cell_type": "code",
      "source": [
        "history = model.fit(x_train,y_train,epochs=150,batch_size=10,validation_split=0.2)"
      ],
      "metadata": {
        "colab": {
          "base_uri": "https://localhost:8080/"
        },
        "id": "Jalu-zeX7hUK",
        "outputId": "8c6f3f1b-469b-40a2-d289-afd27b239ad0"
      },
      "execution_count": 43,
      "outputs": [
        {
          "output_type": "stream",
          "name": "stdout",
          "text": [
            "Epoch 1/150\n",
            "43/43 [==============================] - 1s 8ms/step - loss: 0.5813 - accuracy: 0.7156 - val_loss: 0.5631 - val_accuracy: 0.7037\n",
            "Epoch 2/150\n",
            "43/43 [==============================] - 0s 4ms/step - loss: 0.5450 - accuracy: 0.7366 - val_loss: 0.5379 - val_accuracy: 0.7037\n",
            "Epoch 3/150\n",
            "43/43 [==============================] - 0s 3ms/step - loss: 0.5209 - accuracy: 0.7529 - val_loss: 0.5246 - val_accuracy: 0.7130\n",
            "Epoch 4/150\n",
            "43/43 [==============================] - 0s 4ms/step - loss: 0.5036 - accuracy: 0.7506 - val_loss: 0.5129 - val_accuracy: 0.7130\n",
            "Epoch 5/150\n",
            "43/43 [==============================] - 0s 3ms/step - loss: 0.4898 - accuracy: 0.7669 - val_loss: 0.5051 - val_accuracy: 0.7130\n",
            "Epoch 6/150\n",
            "43/43 [==============================] - 0s 4ms/step - loss: 0.4780 - accuracy: 0.7646 - val_loss: 0.4987 - val_accuracy: 0.7222\n",
            "Epoch 7/150\n",
            "43/43 [==============================] - 0s 3ms/step - loss: 0.4695 - accuracy: 0.7786 - val_loss: 0.4940 - val_accuracy: 0.7500\n",
            "Epoch 8/150\n",
            "43/43 [==============================] - 0s 5ms/step - loss: 0.4625 - accuracy: 0.7692 - val_loss: 0.4925 - val_accuracy: 0.7407\n",
            "Epoch 9/150\n",
            "43/43 [==============================] - 0s 4ms/step - loss: 0.4569 - accuracy: 0.7716 - val_loss: 0.4898 - val_accuracy: 0.7315\n",
            "Epoch 10/150\n",
            "43/43 [==============================] - 0s 4ms/step - loss: 0.4529 - accuracy: 0.7762 - val_loss: 0.4888 - val_accuracy: 0.7315\n",
            "Epoch 11/150\n",
            "43/43 [==============================] - 0s 3ms/step - loss: 0.4486 - accuracy: 0.7809 - val_loss: 0.4861 - val_accuracy: 0.7407\n",
            "Epoch 12/150\n",
            "43/43 [==============================] - 0s 4ms/step - loss: 0.4454 - accuracy: 0.7809 - val_loss: 0.4848 - val_accuracy: 0.7315\n",
            "Epoch 13/150\n",
            "43/43 [==============================] - 0s 3ms/step - loss: 0.4416 - accuracy: 0.7832 - val_loss: 0.4840 - val_accuracy: 0.7315\n",
            "Epoch 14/150\n",
            "43/43 [==============================] - 0s 3ms/step - loss: 0.4388 - accuracy: 0.7879 - val_loss: 0.4821 - val_accuracy: 0.7315\n",
            "Epoch 15/150\n",
            "43/43 [==============================] - 0s 3ms/step - loss: 0.4357 - accuracy: 0.7809 - val_loss: 0.4831 - val_accuracy: 0.7407\n",
            "Epoch 16/150\n",
            "43/43 [==============================] - 0s 3ms/step - loss: 0.4334 - accuracy: 0.7786 - val_loss: 0.4821 - val_accuracy: 0.7407\n",
            "Epoch 17/150\n",
            "43/43 [==============================] - 0s 3ms/step - loss: 0.4304 - accuracy: 0.7879 - val_loss: 0.4814 - val_accuracy: 0.7407\n",
            "Epoch 18/150\n",
            "43/43 [==============================] - 0s 3ms/step - loss: 0.4278 - accuracy: 0.7879 - val_loss: 0.4804 - val_accuracy: 0.7407\n",
            "Epoch 19/150\n",
            "43/43 [==============================] - 0s 3ms/step - loss: 0.4252 - accuracy: 0.7855 - val_loss: 0.4810 - val_accuracy: 0.7500\n",
            "Epoch 20/150\n",
            "43/43 [==============================] - 0s 4ms/step - loss: 0.4234 - accuracy: 0.7809 - val_loss: 0.4812 - val_accuracy: 0.7500\n",
            "Epoch 21/150\n",
            "43/43 [==============================] - 0s 3ms/step - loss: 0.4211 - accuracy: 0.7925 - val_loss: 0.4789 - val_accuracy: 0.7500\n",
            "Epoch 22/150\n",
            "43/43 [==============================] - 0s 3ms/step - loss: 0.4199 - accuracy: 0.7902 - val_loss: 0.4787 - val_accuracy: 0.7500\n",
            "Epoch 23/150\n",
            "43/43 [==============================] - 0s 4ms/step - loss: 0.4180 - accuracy: 0.7949 - val_loss: 0.4784 - val_accuracy: 0.7500\n",
            "Epoch 24/150\n",
            "43/43 [==============================] - 0s 3ms/step - loss: 0.4173 - accuracy: 0.7902 - val_loss: 0.4790 - val_accuracy: 0.7500\n",
            "Epoch 25/150\n",
            "43/43 [==============================] - 0s 3ms/step - loss: 0.4150 - accuracy: 0.7972 - val_loss: 0.4791 - val_accuracy: 0.7593\n",
            "Epoch 26/150\n",
            "43/43 [==============================] - 0s 3ms/step - loss: 0.4134 - accuracy: 0.7995 - val_loss: 0.4810 - val_accuracy: 0.7500\n",
            "Epoch 27/150\n",
            "43/43 [==============================] - 0s 4ms/step - loss: 0.4118 - accuracy: 0.8019 - val_loss: 0.4798 - val_accuracy: 0.7500\n",
            "Epoch 28/150\n",
            "43/43 [==============================] - 0s 3ms/step - loss: 0.4118 - accuracy: 0.7949 - val_loss: 0.4819 - val_accuracy: 0.7593\n",
            "Epoch 29/150\n",
            "43/43 [==============================] - 0s 4ms/step - loss: 0.4095 - accuracy: 0.7972 - val_loss: 0.4796 - val_accuracy: 0.7593\n",
            "Epoch 30/150\n",
            "43/43 [==============================] - 0s 3ms/step - loss: 0.4093 - accuracy: 0.8019 - val_loss: 0.4792 - val_accuracy: 0.7685\n",
            "Epoch 31/150\n",
            "43/43 [==============================] - 0s 3ms/step - loss: 0.4070 - accuracy: 0.8019 - val_loss: 0.4801 - val_accuracy: 0.7685\n",
            "Epoch 32/150\n",
            "43/43 [==============================] - 0s 3ms/step - loss: 0.4064 - accuracy: 0.8019 - val_loss: 0.4806 - val_accuracy: 0.7778\n",
            "Epoch 33/150\n",
            "43/43 [==============================] - 0s 3ms/step - loss: 0.4044 - accuracy: 0.8042 - val_loss: 0.4813 - val_accuracy: 0.7778\n",
            "Epoch 34/150\n",
            "43/43 [==============================] - 0s 3ms/step - loss: 0.4037 - accuracy: 0.7995 - val_loss: 0.4825 - val_accuracy: 0.7685\n",
            "Epoch 35/150\n",
            "43/43 [==============================] - 0s 3ms/step - loss: 0.4024 - accuracy: 0.8089 - val_loss: 0.4820 - val_accuracy: 0.7778\n",
            "Epoch 36/150\n",
            "43/43 [==============================] - 0s 3ms/step - loss: 0.4014 - accuracy: 0.8135 - val_loss: 0.4827 - val_accuracy: 0.7778\n",
            "Epoch 37/150\n",
            "43/43 [==============================] - 0s 3ms/step - loss: 0.4009 - accuracy: 0.8089 - val_loss: 0.4833 - val_accuracy: 0.7685\n",
            "Epoch 38/150\n",
            "43/43 [==============================] - 0s 3ms/step - loss: 0.3991 - accuracy: 0.8089 - val_loss: 0.4822 - val_accuracy: 0.7685\n",
            "Epoch 39/150\n",
            "43/43 [==============================] - 0s 3ms/step - loss: 0.3978 - accuracy: 0.8089 - val_loss: 0.4825 - val_accuracy: 0.7685\n",
            "Epoch 40/150\n",
            "43/43 [==============================] - 0s 3ms/step - loss: 0.3969 - accuracy: 0.8089 - val_loss: 0.4835 - val_accuracy: 0.7685\n",
            "Epoch 41/150\n",
            "43/43 [==============================] - 0s 3ms/step - loss: 0.3956 - accuracy: 0.8135 - val_loss: 0.4833 - val_accuracy: 0.7685\n",
            "Epoch 42/150\n",
            "43/43 [==============================] - 0s 3ms/step - loss: 0.3944 - accuracy: 0.8089 - val_loss: 0.4834 - val_accuracy: 0.7685\n",
            "Epoch 43/150\n",
            "43/43 [==============================] - 0s 3ms/step - loss: 0.3949 - accuracy: 0.8089 - val_loss: 0.4856 - val_accuracy: 0.7685\n",
            "Epoch 44/150\n",
            "43/43 [==============================] - 0s 3ms/step - loss: 0.3936 - accuracy: 0.8135 - val_loss: 0.4831 - val_accuracy: 0.7778\n",
            "Epoch 45/150\n",
            "43/43 [==============================] - 0s 3ms/step - loss: 0.3921 - accuracy: 0.8089 - val_loss: 0.4839 - val_accuracy: 0.7685\n",
            "Epoch 46/150\n",
            "43/43 [==============================] - 0s 3ms/step - loss: 0.3898 - accuracy: 0.8159 - val_loss: 0.4839 - val_accuracy: 0.7685\n",
            "Epoch 47/150\n",
            "43/43 [==============================] - 0s 3ms/step - loss: 0.3892 - accuracy: 0.8089 - val_loss: 0.4845 - val_accuracy: 0.7778\n",
            "Epoch 48/150\n",
            "43/43 [==============================] - 0s 3ms/step - loss: 0.3895 - accuracy: 0.8135 - val_loss: 0.4834 - val_accuracy: 0.7685\n",
            "Epoch 49/150\n",
            "43/43 [==============================] - 0s 3ms/step - loss: 0.3886 - accuracy: 0.8089 - val_loss: 0.4834 - val_accuracy: 0.7685\n",
            "Epoch 50/150\n",
            "43/43 [==============================] - 0s 4ms/step - loss: 0.3870 - accuracy: 0.8228 - val_loss: 0.4835 - val_accuracy: 0.7685\n",
            "Epoch 51/150\n",
            "43/43 [==============================] - 0s 5ms/step - loss: 0.3860 - accuracy: 0.8112 - val_loss: 0.4864 - val_accuracy: 0.7685\n",
            "Epoch 52/150\n",
            "43/43 [==============================] - 0s 5ms/step - loss: 0.3854 - accuracy: 0.8135 - val_loss: 0.4876 - val_accuracy: 0.7685\n",
            "Epoch 53/150\n",
            "43/43 [==============================] - 0s 6ms/step - loss: 0.3838 - accuracy: 0.8135 - val_loss: 0.4876 - val_accuracy: 0.7685\n",
            "Epoch 54/150\n",
            "43/43 [==============================] - 0s 5ms/step - loss: 0.3831 - accuracy: 0.8205 - val_loss: 0.4872 - val_accuracy: 0.7778\n",
            "Epoch 55/150\n",
            "43/43 [==============================] - 0s 5ms/step - loss: 0.3826 - accuracy: 0.8135 - val_loss: 0.4879 - val_accuracy: 0.7685\n",
            "Epoch 56/150\n",
            "43/43 [==============================] - 0s 6ms/step - loss: 0.3819 - accuracy: 0.8089 - val_loss: 0.4886 - val_accuracy: 0.7778\n",
            "Epoch 57/150\n",
            "43/43 [==============================] - 0s 5ms/step - loss: 0.3815 - accuracy: 0.8205 - val_loss: 0.4903 - val_accuracy: 0.7778\n",
            "Epoch 58/150\n",
            "43/43 [==============================] - 0s 6ms/step - loss: 0.3795 - accuracy: 0.8228 - val_loss: 0.4895 - val_accuracy: 0.7685\n",
            "Epoch 59/150\n",
            "43/43 [==============================] - 0s 6ms/step - loss: 0.3788 - accuracy: 0.8135 - val_loss: 0.4911 - val_accuracy: 0.7778\n",
            "Epoch 60/150\n",
            "43/43 [==============================] - 0s 6ms/step - loss: 0.3779 - accuracy: 0.8228 - val_loss: 0.4905 - val_accuracy: 0.7685\n",
            "Epoch 61/150\n",
            "43/43 [==============================] - 0s 6ms/step - loss: 0.3764 - accuracy: 0.8159 - val_loss: 0.4944 - val_accuracy: 0.7778\n",
            "Epoch 62/150\n",
            "43/43 [==============================] - 0s 5ms/step - loss: 0.3762 - accuracy: 0.8159 - val_loss: 0.4948 - val_accuracy: 0.7778\n",
            "Epoch 63/150\n",
            "43/43 [==============================] - 0s 5ms/step - loss: 0.3754 - accuracy: 0.8159 - val_loss: 0.4939 - val_accuracy: 0.7778\n",
            "Epoch 64/150\n",
            "43/43 [==============================] - 0s 6ms/step - loss: 0.3744 - accuracy: 0.8252 - val_loss: 0.4967 - val_accuracy: 0.7593\n",
            "Epoch 65/150\n",
            "43/43 [==============================] - 0s 6ms/step - loss: 0.3741 - accuracy: 0.8182 - val_loss: 0.4977 - val_accuracy: 0.7778\n",
            "Epoch 66/150\n",
            "43/43 [==============================] - 0s 6ms/step - loss: 0.3753 - accuracy: 0.8182 - val_loss: 0.4995 - val_accuracy: 0.7685\n",
            "Epoch 67/150\n",
            "43/43 [==============================] - 0s 4ms/step - loss: 0.3719 - accuracy: 0.8228 - val_loss: 0.5009 - val_accuracy: 0.7500\n",
            "Epoch 68/150\n",
            "43/43 [==============================] - 0s 3ms/step - loss: 0.3712 - accuracy: 0.8205 - val_loss: 0.5013 - val_accuracy: 0.7500\n",
            "Epoch 69/150\n",
            "43/43 [==============================] - 0s 3ms/step - loss: 0.3705 - accuracy: 0.8228 - val_loss: 0.5020 - val_accuracy: 0.7685\n",
            "Epoch 70/150\n",
            "43/43 [==============================] - 0s 3ms/step - loss: 0.3701 - accuracy: 0.8205 - val_loss: 0.5026 - val_accuracy: 0.7593\n",
            "Epoch 71/150\n",
            "43/43 [==============================] - 0s 4ms/step - loss: 0.3684 - accuracy: 0.8275 - val_loss: 0.5041 - val_accuracy: 0.7593\n",
            "Epoch 72/150\n",
            "43/43 [==============================] - 0s 4ms/step - loss: 0.3680 - accuracy: 0.8252 - val_loss: 0.5075 - val_accuracy: 0.7500\n",
            "Epoch 73/150\n",
            "43/43 [==============================] - 0s 3ms/step - loss: 0.3659 - accuracy: 0.8252 - val_loss: 0.5075 - val_accuracy: 0.7593\n",
            "Epoch 74/150\n",
            "43/43 [==============================] - 0s 3ms/step - loss: 0.3657 - accuracy: 0.8205 - val_loss: 0.5084 - val_accuracy: 0.7500\n",
            "Epoch 75/150\n",
            "43/43 [==============================] - 0s 3ms/step - loss: 0.3652 - accuracy: 0.8275 - val_loss: 0.5101 - val_accuracy: 0.7593\n",
            "Epoch 76/150\n",
            "43/43 [==============================] - 0s 3ms/step - loss: 0.3658 - accuracy: 0.8252 - val_loss: 0.5101 - val_accuracy: 0.7500\n",
            "Epoch 77/150\n",
            "43/43 [==============================] - 0s 3ms/step - loss: 0.3646 - accuracy: 0.8228 - val_loss: 0.5096 - val_accuracy: 0.7593\n",
            "Epoch 78/150\n",
            "43/43 [==============================] - 0s 3ms/step - loss: 0.3644 - accuracy: 0.8252 - val_loss: 0.5132 - val_accuracy: 0.7500\n",
            "Epoch 79/150\n",
            "43/43 [==============================] - 0s 3ms/step - loss: 0.3626 - accuracy: 0.8228 - val_loss: 0.5141 - val_accuracy: 0.7593\n",
            "Epoch 80/150\n",
            "43/43 [==============================] - 0s 3ms/step - loss: 0.3625 - accuracy: 0.8205 - val_loss: 0.5159 - val_accuracy: 0.7500\n",
            "Epoch 81/150\n",
            "43/43 [==============================] - 0s 3ms/step - loss: 0.3618 - accuracy: 0.8205 - val_loss: 0.5167 - val_accuracy: 0.7500\n",
            "Epoch 82/150\n",
            "43/43 [==============================] - 0s 4ms/step - loss: 0.3615 - accuracy: 0.8252 - val_loss: 0.5155 - val_accuracy: 0.7500\n",
            "Epoch 83/150\n",
            "43/43 [==============================] - 0s 3ms/step - loss: 0.3597 - accuracy: 0.8205 - val_loss: 0.5167 - val_accuracy: 0.7500\n",
            "Epoch 84/150\n",
            "43/43 [==============================] - 0s 3ms/step - loss: 0.3594 - accuracy: 0.8182 - val_loss: 0.5196 - val_accuracy: 0.7593\n",
            "Epoch 85/150\n",
            "43/43 [==============================] - 0s 4ms/step - loss: 0.3584 - accuracy: 0.8228 - val_loss: 0.5195 - val_accuracy: 0.7500\n",
            "Epoch 86/150\n",
            "43/43 [==============================] - 0s 3ms/step - loss: 0.3571 - accuracy: 0.8252 - val_loss: 0.5206 - val_accuracy: 0.7500\n",
            "Epoch 87/150\n",
            "43/43 [==============================] - 0s 3ms/step - loss: 0.3572 - accuracy: 0.8205 - val_loss: 0.5224 - val_accuracy: 0.7500\n",
            "Epoch 88/150\n",
            "43/43 [==============================] - 0s 4ms/step - loss: 0.3563 - accuracy: 0.8205 - val_loss: 0.5248 - val_accuracy: 0.7500\n",
            "Epoch 89/150\n",
            "43/43 [==============================] - 0s 3ms/step - loss: 0.3559 - accuracy: 0.8252 - val_loss: 0.5251 - val_accuracy: 0.7593\n",
            "Epoch 90/150\n",
            "43/43 [==============================] - 0s 3ms/step - loss: 0.3552 - accuracy: 0.8182 - val_loss: 0.5269 - val_accuracy: 0.7593\n",
            "Epoch 91/150\n",
            "43/43 [==============================] - 0s 3ms/step - loss: 0.3538 - accuracy: 0.8205 - val_loss: 0.5281 - val_accuracy: 0.7500\n",
            "Epoch 92/150\n",
            "43/43 [==============================] - 0s 3ms/step - loss: 0.3530 - accuracy: 0.8275 - val_loss: 0.5276 - val_accuracy: 0.7500\n",
            "Epoch 93/150\n",
            "43/43 [==============================] - 0s 3ms/step - loss: 0.3536 - accuracy: 0.8205 - val_loss: 0.5271 - val_accuracy: 0.7500\n",
            "Epoch 94/150\n",
            "43/43 [==============================] - 0s 3ms/step - loss: 0.3529 - accuracy: 0.8298 - val_loss: 0.5305 - val_accuracy: 0.7500\n",
            "Epoch 95/150\n",
            "43/43 [==============================] - 0s 4ms/step - loss: 0.3517 - accuracy: 0.8252 - val_loss: 0.5312 - val_accuracy: 0.7500\n",
            "Epoch 96/150\n",
            "43/43 [==============================] - 0s 3ms/step - loss: 0.3517 - accuracy: 0.8368 - val_loss: 0.5318 - val_accuracy: 0.7500\n",
            "Epoch 97/150\n",
            "43/43 [==============================] - 0s 3ms/step - loss: 0.3512 - accuracy: 0.8228 - val_loss: 0.5322 - val_accuracy: 0.7500\n",
            "Epoch 98/150\n",
            "43/43 [==============================] - 0s 3ms/step - loss: 0.3499 - accuracy: 0.8228 - val_loss: 0.5326 - val_accuracy: 0.7500\n",
            "Epoch 99/150\n",
            "43/43 [==============================] - 0s 3ms/step - loss: 0.3491 - accuracy: 0.8322 - val_loss: 0.5348 - val_accuracy: 0.7500\n",
            "Epoch 100/150\n",
            "43/43 [==============================] - 0s 4ms/step - loss: 0.3484 - accuracy: 0.8368 - val_loss: 0.5367 - val_accuracy: 0.7500\n",
            "Epoch 101/150\n",
            "43/43 [==============================] - 0s 3ms/step - loss: 0.3480 - accuracy: 0.8252 - val_loss: 0.5349 - val_accuracy: 0.7500\n",
            "Epoch 102/150\n",
            "43/43 [==============================] - 0s 4ms/step - loss: 0.3477 - accuracy: 0.8322 - val_loss: 0.5394 - val_accuracy: 0.7500\n",
            "Epoch 103/150\n",
            "43/43 [==============================] - 0s 3ms/step - loss: 0.3477 - accuracy: 0.8322 - val_loss: 0.5372 - val_accuracy: 0.7500\n",
            "Epoch 104/150\n",
            "43/43 [==============================] - 0s 3ms/step - loss: 0.3461 - accuracy: 0.8392 - val_loss: 0.5405 - val_accuracy: 0.7500\n",
            "Epoch 105/150\n",
            "43/43 [==============================] - 0s 3ms/step - loss: 0.3457 - accuracy: 0.8368 - val_loss: 0.5390 - val_accuracy: 0.7500\n",
            "Epoch 106/150\n",
            "43/43 [==============================] - 0s 3ms/step - loss: 0.3447 - accuracy: 0.8415 - val_loss: 0.5430 - val_accuracy: 0.7500\n",
            "Epoch 107/150\n",
            "43/43 [==============================] - 0s 3ms/step - loss: 0.3436 - accuracy: 0.8392 - val_loss: 0.5406 - val_accuracy: 0.7500\n",
            "Epoch 108/150\n",
            "43/43 [==============================] - 0s 3ms/step - loss: 0.3442 - accuracy: 0.8345 - val_loss: 0.5424 - val_accuracy: 0.7500\n",
            "Epoch 109/150\n",
            "43/43 [==============================] - 0s 3ms/step - loss: 0.3431 - accuracy: 0.8438 - val_loss: 0.5408 - val_accuracy: 0.7500\n",
            "Epoch 110/150\n",
            "43/43 [==============================] - 0s 3ms/step - loss: 0.3429 - accuracy: 0.8368 - val_loss: 0.5444 - val_accuracy: 0.7500\n",
            "Epoch 111/150\n",
            "43/43 [==============================] - 0s 3ms/step - loss: 0.3422 - accuracy: 0.8462 - val_loss: 0.5429 - val_accuracy: 0.7500\n",
            "Epoch 112/150\n",
            "43/43 [==============================] - 0s 3ms/step - loss: 0.3412 - accuracy: 0.8508 - val_loss: 0.5466 - val_accuracy: 0.7500\n",
            "Epoch 113/150\n",
            "43/43 [==============================] - 0s 3ms/step - loss: 0.3413 - accuracy: 0.8368 - val_loss: 0.5470 - val_accuracy: 0.7500\n",
            "Epoch 114/150\n",
            "43/43 [==============================] - 0s 3ms/step - loss: 0.3403 - accuracy: 0.8415 - val_loss: 0.5480 - val_accuracy: 0.7500\n",
            "Epoch 115/150\n",
            "43/43 [==============================] - 0s 4ms/step - loss: 0.3397 - accuracy: 0.8462 - val_loss: 0.5460 - val_accuracy: 0.7500\n",
            "Epoch 116/150\n",
            "43/43 [==============================] - 0s 3ms/step - loss: 0.3396 - accuracy: 0.8531 - val_loss: 0.5480 - val_accuracy: 0.7500\n",
            "Epoch 117/150\n",
            "43/43 [==============================] - 0s 3ms/step - loss: 0.3386 - accuracy: 0.8462 - val_loss: 0.5500 - val_accuracy: 0.7500\n",
            "Epoch 118/150\n",
            "43/43 [==============================] - 0s 3ms/step - loss: 0.3385 - accuracy: 0.8415 - val_loss: 0.5510 - val_accuracy: 0.7500\n",
            "Epoch 119/150\n",
            "43/43 [==============================] - 0s 3ms/step - loss: 0.3387 - accuracy: 0.8485 - val_loss: 0.5535 - val_accuracy: 0.7500\n",
            "Epoch 120/150\n",
            "43/43 [==============================] - 0s 3ms/step - loss: 0.3371 - accuracy: 0.8462 - val_loss: 0.5522 - val_accuracy: 0.7500\n",
            "Epoch 121/150\n",
            "43/43 [==============================] - 0s 3ms/step - loss: 0.3370 - accuracy: 0.8508 - val_loss: 0.5525 - val_accuracy: 0.7500\n",
            "Epoch 122/150\n",
            "43/43 [==============================] - 0s 3ms/step - loss: 0.3365 - accuracy: 0.8485 - val_loss: 0.5530 - val_accuracy: 0.7500\n",
            "Epoch 123/150\n",
            "43/43 [==============================] - 0s 4ms/step - loss: 0.3356 - accuracy: 0.8485 - val_loss: 0.5539 - val_accuracy: 0.7500\n",
            "Epoch 124/150\n",
            "43/43 [==============================] - 0s 3ms/step - loss: 0.3354 - accuracy: 0.8555 - val_loss: 0.5561 - val_accuracy: 0.7500\n",
            "Epoch 125/150\n",
            "43/43 [==============================] - 0s 3ms/step - loss: 0.3353 - accuracy: 0.8485 - val_loss: 0.5551 - val_accuracy: 0.7500\n",
            "Epoch 126/150\n",
            "43/43 [==============================] - 0s 3ms/step - loss: 0.3338 - accuracy: 0.8508 - val_loss: 0.5563 - val_accuracy: 0.7500\n",
            "Epoch 127/150\n",
            "43/43 [==============================] - 0s 4ms/step - loss: 0.3342 - accuracy: 0.8555 - val_loss: 0.5557 - val_accuracy: 0.7500\n",
            "Epoch 128/150\n",
            "43/43 [==============================] - 0s 4ms/step - loss: 0.3340 - accuracy: 0.8485 - val_loss: 0.5567 - val_accuracy: 0.7500\n",
            "Epoch 129/150\n",
            "43/43 [==============================] - 0s 3ms/step - loss: 0.3329 - accuracy: 0.8555 - val_loss: 0.5563 - val_accuracy: 0.7500\n",
            "Epoch 130/150\n",
            "43/43 [==============================] - 0s 4ms/step - loss: 0.3323 - accuracy: 0.8601 - val_loss: 0.5599 - val_accuracy: 0.7500\n",
            "Epoch 131/150\n",
            "43/43 [==============================] - 0s 3ms/step - loss: 0.3307 - accuracy: 0.8555 - val_loss: 0.5590 - val_accuracy: 0.7500\n",
            "Epoch 132/150\n",
            "43/43 [==============================] - 0s 3ms/step - loss: 0.3315 - accuracy: 0.8555 - val_loss: 0.5574 - val_accuracy: 0.7500\n",
            "Epoch 133/150\n",
            "43/43 [==============================] - 0s 5ms/step - loss: 0.3312 - accuracy: 0.8578 - val_loss: 0.5605 - val_accuracy: 0.7500\n",
            "Epoch 134/150\n",
            "43/43 [==============================] - 0s 5ms/step - loss: 0.3311 - accuracy: 0.8555 - val_loss: 0.5595 - val_accuracy: 0.7500\n",
            "Epoch 135/150\n",
            "43/43 [==============================] - 0s 6ms/step - loss: 0.3298 - accuracy: 0.8555 - val_loss: 0.5606 - val_accuracy: 0.7500\n",
            "Epoch 136/150\n",
            "43/43 [==============================] - 0s 5ms/step - loss: 0.3299 - accuracy: 0.8601 - val_loss: 0.5604 - val_accuracy: 0.7500\n",
            "Epoch 137/150\n",
            "43/43 [==============================] - 0s 6ms/step - loss: 0.3292 - accuracy: 0.8601 - val_loss: 0.5617 - val_accuracy: 0.7407\n",
            "Epoch 138/150\n",
            "43/43 [==============================] - 0s 6ms/step - loss: 0.3288 - accuracy: 0.8648 - val_loss: 0.5612 - val_accuracy: 0.7500\n",
            "Epoch 139/150\n",
            "43/43 [==============================] - 0s 5ms/step - loss: 0.3277 - accuracy: 0.8625 - val_loss: 0.5622 - val_accuracy: 0.7407\n",
            "Epoch 140/150\n",
            "43/43 [==============================] - 0s 5ms/step - loss: 0.3290 - accuracy: 0.8485 - val_loss: 0.5639 - val_accuracy: 0.7407\n",
            "Epoch 141/150\n",
            "43/43 [==============================] - 0s 6ms/step - loss: 0.3269 - accuracy: 0.8578 - val_loss: 0.5613 - val_accuracy: 0.7407\n",
            "Epoch 142/150\n",
            "43/43 [==============================] - 0s 6ms/step - loss: 0.3271 - accuracy: 0.8671 - val_loss: 0.5623 - val_accuracy: 0.7407\n",
            "Epoch 143/150\n",
            "43/43 [==============================] - 0s 5ms/step - loss: 0.3267 - accuracy: 0.8625 - val_loss: 0.5622 - val_accuracy: 0.7407\n",
            "Epoch 144/150\n",
            "43/43 [==============================] - 0s 6ms/step - loss: 0.3258 - accuracy: 0.8625 - val_loss: 0.5634 - val_accuracy: 0.7407\n",
            "Epoch 145/150\n",
            "43/43 [==============================] - 0s 4ms/step - loss: 0.3258 - accuracy: 0.8695 - val_loss: 0.5658 - val_accuracy: 0.7407\n",
            "Epoch 146/150\n",
            "43/43 [==============================] - 0s 5ms/step - loss: 0.3248 - accuracy: 0.8671 - val_loss: 0.5650 - val_accuracy: 0.7407\n",
            "Epoch 147/150\n",
            "43/43 [==============================] - 0s 5ms/step - loss: 0.3240 - accuracy: 0.8648 - val_loss: 0.5665 - val_accuracy: 0.7407\n",
            "Epoch 148/150\n",
            "43/43 [==============================] - 0s 5ms/step - loss: 0.3232 - accuracy: 0.8625 - val_loss: 0.5661 - val_accuracy: 0.7407\n",
            "Epoch 149/150\n",
            "43/43 [==============================] - 0s 6ms/step - loss: 0.3234 - accuracy: 0.8625 - val_loss: 0.5673 - val_accuracy: 0.7407\n",
            "Epoch 150/150\n",
            "43/43 [==============================] - 0s 6ms/step - loss: 0.3228 - accuracy: 0.8695 - val_loss: 0.5693 - val_accuracy: 0.7407\n"
          ]
        }
      ]
    },
    {
      "cell_type": "markdown",
      "source": [
        "***MODEL EVALUATION***"
      ],
      "metadata": {
        "id": "nSH-nVcr78w4"
      }
    },
    {
      "cell_type": "code",
      "source": [
        "test_loss,test_accuracy = model.evaluate(x_test,y_test)\n",
        "test_loss,test_accuracy"
      ],
      "metadata": {
        "colab": {
          "base_uri": "https://localhost:8080/"
        },
        "id": "5ZzE2H0h8Dwz",
        "outputId": "ec05dcef-1c54-4f0b-de5a-05642da6bc07"
      },
      "execution_count": 44,
      "outputs": [
        {
          "output_type": "stream",
          "name": "stdout",
          "text": [
            "8/8 [==============================] - 0s 2ms/step - loss: 0.6804 - accuracy: 0.7229\n"
          ]
        },
        {
          "output_type": "execute_result",
          "data": {
            "text/plain": [
              "(0.6803669929504395, 0.7229437232017517)"
            ]
          },
          "metadata": {},
          "execution_count": 44
        }
      ]
    },
    {
      "cell_type": "markdown",
      "source": [
        "***MODEL PREDICTION***"
      ],
      "metadata": {
        "id": "mJkCP8fc8UKd"
      }
    },
    {
      "cell_type": "code",
      "source": [
        "y_pred = (model.predict(x_test)>0.5).astype(int)"
      ],
      "metadata": {
        "colab": {
          "base_uri": "https://localhost:8080/"
        },
        "id": "43gea5898jq1",
        "outputId": "5cc53717-daef-414f-fcd5-a123e499b98c"
      },
      "execution_count": 47,
      "outputs": [
        {
          "output_type": "stream",
          "name": "stdout",
          "text": [
            "8/8 [==============================] - 0s 3ms/step\n"
          ]
        }
      ]
    },
    {
      "cell_type": "code",
      "source": [
        "# Assuming y_test is a pandas Series or DataFrame\n",
        "for i in range(5):\n",
        "    print(f'Input: {x_test[i].tolist()} => Prediction: {y_pred[i]} (Actual: {y_test.iloc[i]})')\n"
      ],
      "metadata": {
        "colab": {
          "base_uri": "https://localhost:8080/"
        },
        "id": "NuLRgJdX8xM_",
        "outputId": "8397dc3d-b4d6-446f-ef36-9e71e9b87b66"
      },
      "execution_count": 53,
      "outputs": [
        {
          "output_type": "stream",
          "name": "stdout",
          "text": [
            "Input: [0.5233871535231085, -0.7394464383735766, -0.4446003080737151, 0.7200419689830563, 0.9560667489737066, 0.23273334266078452, -0.15228197610461225, 0.7860505049424569] => Prediction: [1] (Actual: 0)\n",
            "Input: [-0.5909209797841547, -0.28934860632009524, 0.32999836530937293, 0.6611224879929444, -0.6910430646727049, 0.43377686149688327, -1.0773055202492086, -1.0590805186684285] => Prediction: [0] (Actual: 0)\n",
            "Input: [-0.5909209797841547, -0.4179479869068042, -0.17121254099733108, -1.2243009036906376, -0.6910430646727049, -0.14570151632481237, -1.0445032669107477, -1.0590805186684285] => Prediction: [0] (Actual: 0)\n",
            "Input: [1.0805412201767401, -0.4500978320534814, 0.5578215045396929, -1.2243009036906376, -0.6910430646727049, -0.8789190556094064, 1.2450940161138204, 0.03122417710164011] => Prediction: [0] (Actual: 0)\n",
            "Input: [0.8019641868499243, 0.4822476772001587, 1.013467783000333, -1.2243009036906376, -0.6910430646727049, -0.2521363204145118, -0.8739315495507514, 1.3731376488186475] => Prediction: [0] (Actual: 0)\n"
          ]
        }
      ]
    },
    {
      "cell_type": "code",
      "source": [
        "from sklearn.metrics import confusion_matrix,classification_report\n",
        "conf_matrix = confusion_matrix(y_test,y_pred)\n",
        "print(conf_matrix)\n",
        "print(classification_report(y_test,y_pred))"
      ],
      "metadata": {
        "colab": {
          "base_uri": "https://localhost:8080/"
        },
        "id": "VNDG34PI9TKs",
        "outputId": "395015fb-f43f-430d-9ea0-3867fc387896"
      },
      "execution_count": 54,
      "outputs": [
        {
          "output_type": "stream",
          "name": "stdout",
          "text": [
            "[[121  30]\n",
            " [ 34  46]]\n",
            "              precision    recall  f1-score   support\n",
            "\n",
            "           0       0.78      0.80      0.79       151\n",
            "           1       0.61      0.57      0.59        80\n",
            "\n",
            "    accuracy                           0.72       231\n",
            "   macro avg       0.69      0.69      0.69       231\n",
            "weighted avg       0.72      0.72      0.72       231\n",
            "\n"
          ]
        }
      ]
    },
    {
      "cell_type": "markdown",
      "source": [
        "***PLOTTING OF LOSS AND ACCURACY FOR VALIDATION AND TRAINING***"
      ],
      "metadata": {
        "id": "R7uTXEUE80KC"
      }
    },
    {
      "cell_type": "code",
      "source": [
        "plt.figure(figsize=(10, 5))\n",
        "plt.subplot(1, 2, 1)\n",
        "plt.plot(history.history['loss'], label='Training Loss')\n",
        "plt.plot(history.history['val_loss'], label='Validation Loss')\n",
        "plt.title('Training and Validation Loss')\n",
        "plt.xlabel('Epochs')\n",
        "plt.ylabel('Loss')\n",
        "plt.legend()\n",
        "\n",
        "# Plot training and validation accuracy over epochs\n",
        "plt.subplot(1, 2, 2)\n",
        "plt.plot(history.history['accuracy'], label='Training Accuracy')\n",
        "plt.plot(history.history['val_accuracy'], label='Validation Accuracy')\n",
        "plt.title('Training and Validation Accuracy')\n",
        "plt.xlabel('Epochs')\n",
        "plt.ylabel('Accuracy')\n",
        "plt.legend()\n",
        "\n",
        "plt.show()"
      ],
      "metadata": {
        "colab": {
          "base_uri": "https://localhost:8080/",
          "height": 487
        },
        "id": "_i5apxe08-Yg",
        "outputId": "17893178-9add-42fb-9db9-66fe7352d527"
      },
      "execution_count": 55,
      "outputs": [
        {
          "output_type": "display_data",
          "data": {
            "text/plain": [
              "<Figure size 1000x500 with 2 Axes>"
            ],
            "image/png": "[encoded data removed]"
          },
          "metadata": {}
        }
      ]
    },
    {
      "cell_type": "markdown",
      "source": [
        "***PREDICTIONS ON NEW DATA***"
      ],
      "metadata": {
        "id": "xatUfZGG96AX"
      }
    },
    {
      "cell_type": "code",
      "source": [
        "feature_names=['Pregnancies',\t'Glucose', 'BloodPressure',\t'SkinThickness',\t'Insulin',\t'BMI',\t'DiabetesPedigreeFunction',\t'Age']\n",
        "new_data = []\n",
        "for feature in feature_names:  # Assuming 8 features\n",
        "    value = float(input(f\"Enter value for {feature}:\"))\n",
        "    new_data.append(value)\n",
        "\n",
        "# Convert the user input to a NumPy array\n",
        "x_new = np.array([new_data])\n",
        "\n",
        "# Make predictions for the new values\n",
        "ypred_new = (model.predict(x_new) > 0.5).astype(int)\n",
        "\n",
        "# Display the prediction for the new values\n",
        "print(\"\\nPrediction for New Values:\")\n",
        "print(ypred_new)"
      ],
      "metadata": {
        "colab": {
          "base_uri": "https://localhost:8080/"
        },
        "id": "S1E9pSHP95Z1",
        "outputId": "400ec949-2070-4e13-d8df-3712f29c0774"
      },
      "execution_count": 57,
      "outputs": [
        {
          "output_type": "stream",
          "name": "stdout",
          "text": [
            "Enter value for Pregnancies:4\n",
            "Enter value for Glucose:178\n",
            "Enter value for BloodPressure:120\n",
            "Enter value for SkinThickness:23\n",
            "Enter value for Insulin:290\n",
            "Enter value for BMI:27\n",
            "Enter value for DiabetesPedigreeFunction:32\n",
            "Enter value for Age:87\n",
            "1/1 [==============================] - 0s 21ms/step\n",
            "\n",
            "Prediction for New Values:\n",
            "[[1]]\n"
          ]
        }
      ]
    }
  ]
}