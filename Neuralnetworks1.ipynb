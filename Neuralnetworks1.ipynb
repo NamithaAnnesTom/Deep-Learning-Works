{
  "nbformat": 4,
  "nbformat_minor": 0,
  "metadata": {
    "colab": {
      "provenance": []
    },
    "kernelspec": {
      "name": "python3",
      "display_name": "Python 3"
    },
    "language_info": {
      "name": "python"
    }
  },
  "cells": [
    {
      "cell_type": "markdown",
      "source": [
        "***IMPORTING LIBRARIES***"
      ],
      "metadata": {
        "id": "hbJBixcbGG5Z"
      }
    },
    {
      "cell_type": "code",
      "execution_count": null,
      "metadata": {
        "id": "aSFeVSdFF2Ai"
      },
      "outputs": [],
      "source": [
        "import tensorflow as tf\n",
        "from tensorflow import keras\n",
        "from tensorflow.keras import layers"
      ]
    },
    {
      "cell_type": "markdown",
      "source": [
        "Here, we import the necessary libraries. TensorFlow is the main deep learning library, and Keras is a high-level neural networks API that is now integrated into TensorFlow. The layers module from Keras provides building blocks for creating neural network layers."
      ],
      "metadata": {
        "id": "ZS2tFBS6GA7S"
      }
    },
    {
      "cell_type": "markdown",
      "source": [
        "***GENERATE SAMPLE DATA***"
      ],
      "metadata": {
        "id": "t9_Hp2_TGaFN"
      }
    },
    {
      "cell_type": "code",
      "source": [
        "import numpy as np\n",
        "np.random.seed(42)\n",
        "X = np.random.rand(100,1)\n",
        "y = 3*X+2+0.1*np.random.randn(100,1)"
      ],
      "metadata": {
        "id": "pBUpRCAeGsO7"
      },
      "execution_count": null,
      "outputs": []
    },
    {
      "cell_type": "markdown",
      "source": [
        "Here, np.random.rand(100, 1) generates a 2D array (X) with 100 rows and 1 column. Each element in this array is a random number between 0 (inclusive) and 1 (exclusive). This array represents the input data.\n",
        "This line generates the output data (y) based on a simple linear regression equation:\n",
        "\n",
        "y=3X+2+noise.\n",
        "\n",
        "3 * X: This represents the linear part of the equation, where the output is three times the input.\n",
        "\n",
        "2: This is the intercept term, adding a constant value to each output.\n",
        "\n",
        "0.1 * np.random.randn(100, 1): This part introduces some random noise. np.random.randn(100, 1) generates random numbers from a standard normal distribution (mean 0, standard deviation 1). Multiplying by 0.1 scales the noise to a smaller magnitude.\n",
        "\n",
        "The overall effect is to create a dataset (X and y) that follows a linear relationship with some added random noise. This simulates a scenario where there is a true underlying linear relationship, but real-world data is often noisy due to various factors.\n",
        "\n",
        "In summary, the generated data (X and y) is used to create a simple linear regression problem with known parameters (slope and intercept) and some added randomness to simulate a more realistic scenario."
      ],
      "metadata": {
        "id": "MNiMs8P_HqL_"
      }
    },
    {
      "cell_type": "code",
      "source": [
        "X"
      ],
      "metadata": {
        "colab": {
          "base_uri": "https://localhost:8080/"
        },
        "id": "JKLJkb4UH3hG",
        "outputId": "dcdf6771-d581-469e-dbfd-4c19e526d8cc"
      },
      "execution_count": null,
      "outputs": [
        {
          "output_type": "execute_result",
          "data": {
            "text/plain": [
              "array([[0.37454012],\n",
              "       [0.95071431],\n",
              "       [0.73199394],\n",
              "       [0.59865848],\n",
              "       [0.15601864],\n",
              "       [0.15599452],\n",
              "       [0.05808361],\n",
              "       [0.86617615],\n",
              "       [0.60111501],\n",
              "       [0.70807258],\n",
              "       [0.02058449],\n",
              "       [0.96990985],\n",
              "       [0.83244264],\n",
              "       [0.21233911],\n",
              "       [0.18182497],\n",
              "       [0.18340451],\n",
              "       [0.30424224],\n",
              "       [0.52475643],\n",
              "       [0.43194502],\n",
              "       [0.29122914],\n",
              "       [0.61185289],\n",
              "       [0.13949386],\n",
              "       [0.29214465],\n",
              "       [0.36636184],\n",
              "       [0.45606998],\n",
              "       [0.78517596],\n",
              "       [0.19967378],\n",
              "       [0.51423444],\n",
              "       [0.59241457],\n",
              "       [0.04645041],\n",
              "       [0.60754485],\n",
              "       [0.17052412],\n",
              "       [0.06505159],\n",
              "       [0.94888554],\n",
              "       [0.96563203],\n",
              "       [0.80839735],\n",
              "       [0.30461377],\n",
              "       [0.09767211],\n",
              "       [0.68423303],\n",
              "       [0.44015249],\n",
              "       [0.12203823],\n",
              "       [0.49517691],\n",
              "       [0.03438852],\n",
              "       [0.9093204 ],\n",
              "       [0.25877998],\n",
              "       [0.66252228],\n",
              "       [0.31171108],\n",
              "       [0.52006802],\n",
              "       [0.54671028],\n",
              "       [0.18485446],\n",
              "       [0.96958463],\n",
              "       [0.77513282],\n",
              "       [0.93949894],\n",
              "       [0.89482735],\n",
              "       [0.59789998],\n",
              "       [0.92187424],\n",
              "       [0.0884925 ],\n",
              "       [0.19598286],\n",
              "       [0.04522729],\n",
              "       [0.32533033],\n",
              "       [0.38867729],\n",
              "       [0.27134903],\n",
              "       [0.82873751],\n",
              "       [0.35675333],\n",
              "       [0.28093451],\n",
              "       [0.54269608],\n",
              "       [0.14092422],\n",
              "       [0.80219698],\n",
              "       [0.07455064],\n",
              "       [0.98688694],\n",
              "       [0.77224477],\n",
              "       [0.19871568],\n",
              "       [0.00552212],\n",
              "       [0.81546143],\n",
              "       [0.70685734],\n",
              "       [0.72900717],\n",
              "       [0.77127035],\n",
              "       [0.07404465],\n",
              "       [0.35846573],\n",
              "       [0.11586906],\n",
              "       [0.86310343],\n",
              "       [0.62329813],\n",
              "       [0.33089802],\n",
              "       [0.06355835],\n",
              "       [0.31098232],\n",
              "       [0.32518332],\n",
              "       [0.72960618],\n",
              "       [0.63755747],\n",
              "       [0.88721274],\n",
              "       [0.47221493],\n",
              "       [0.11959425],\n",
              "       [0.71324479],\n",
              "       [0.76078505],\n",
              "       [0.5612772 ],\n",
              "       [0.77096718],\n",
              "       [0.4937956 ],\n",
              "       [0.52273283],\n",
              "       [0.42754102],\n",
              "       [0.02541913],\n",
              "       [0.10789143]])"
            ]
          },
          "metadata": {},
          "execution_count": 19
        }
      ]
    },
    {
      "cell_type": "code",
      "source": [
        "y"
      ],
      "metadata": {
        "colab": {
          "base_uri": "https://localhost:8080/"
        },
        "id": "YzOGcGwkH5uf",
        "outputId": "cefb6d32-8ad8-45db-dc0c-f3e689b7ee61"
      },
      "execution_count": null,
      "outputs": [
        {
          "output_type": "execute_result",
          "data": {
            "text/plain": [
              "array([[3.13232506],\n",
              "       [4.82224218],\n",
              "       [4.2051579 ],\n",
              "       [3.59721856],\n",
              "       [2.44608873],\n",
              "       [2.50369482],\n",
              "       [2.32204024],\n",
              "       [4.54670142],\n",
              "       [3.72249567],\n",
              "       [4.07404203],\n",
              "       [2.15329369],\n",
              "       [4.94260467],\n",
              "       [4.4443519 ],\n",
              "       [2.68834408],\n",
              "       [2.55518266],\n",
              "       [2.64707803],\n",
              "       [2.84252142],\n",
              "       [3.54150308],\n",
              "       [3.25662424],\n",
              "       [2.72733593],\n",
              "       [3.86517071],\n",
              "       [2.44458711],\n",
              "       [2.87694529],\n",
              "       [3.07562682],\n",
              "       [3.22667288],\n",
              "       [4.31346335],\n",
              "       [2.56474989],\n",
              "       [3.46247559],\n",
              "       [3.76111514],\n",
              "       [2.17975632],\n",
              "       [4.01125315],\n",
              "       [2.52903015],\n",
              "       [2.22090982],\n",
              "       [4.83921202],\n",
              "       [4.70501898],\n",
              "       [4.42254066],\n",
              "       [2.91986433],\n",
              "       [2.53934055],\n",
              "       [4.03346298],\n",
              "       [3.35061222],\n",
              "       [2.36264353],\n",
              "       [3.36866293],\n",
              "       [2.21744784],\n",
              "       [4.80315451],\n",
              "       [2.85544314],\n",
              "       [3.89662811],\n",
              "       [3.07541266],\n",
              "       [3.42001896],\n",
              "       [3.69881655],\n",
              "       [2.77360893],\n",
              "       [4.80970025],\n",
              "       [4.2687687 ],\n",
              "       [4.82846196],\n",
              "       [4.63413449],\n",
              "       [3.63863359],\n",
              "       [4.772479  ],\n",
              "       [2.15924713],\n",
              "       [2.63530783],\n",
              "       [2.04373944],\n",
              "       [3.13098443],\n",
              "       [3.08770654],\n",
              "       [2.78184094],\n",
              "       [4.56756425],\n",
              "       [2.94717355],\n",
              "       [2.86554952],\n",
              "       [3.75880252],\n",
              "       [2.26202435],\n",
              "       [4.42505433],\n",
              "       [2.24964021],\n",
              "       [5.0388431 ],\n",
              "       [4.19303924],\n",
              "       [2.46410138],\n",
              "       [2.06876051],\n",
              "       [4.47608275],\n",
              "       [4.14562132],\n",
              "       [4.22166633],\n",
              "       [4.24580857],\n",
              "       [2.24535932],\n",
              "       [3.10470443],\n",
              "       [2.27617204],\n",
              "       [4.77588773],\n",
              "       [3.91727767],\n",
              "       [2.87356372],\n",
              "       [2.25633041],\n",
              "       [2.8354788 ],\n",
              "       [3.05425843],\n",
              "       [4.30467809],\n",
              "       [3.83060418],\n",
              "       [4.75797584],\n",
              "       [3.45792287],\n",
              "       [2.44098875],\n",
              "       [4.32941366],\n",
              "       [4.25781633],\n",
              "       [3.60845798],\n",
              "       [4.2239501 ],\n",
              "       [3.39980576],\n",
              "       [3.56048832],\n",
              "       [3.31673825],\n",
              "       [2.10392646],\n",
              "       [2.40639261]])"
            ]
          },
          "metadata": {},
          "execution_count": 20
        }
      ]
    },
    {
      "cell_type": "markdown",
      "source": [
        "***BUILIDING A SIMPLE NEURAL NETWORK***"
      ],
      "metadata": {
        "id": "8buG1pudH85s"
      }
    },
    {
      "cell_type": "code",
      "source": [
        "model = keras.Sequential([\n",
        "    layers.Dense(units=1,input_dim=1)\n",
        "])"
      ],
      "metadata": {
        "id": "B0m5HgXqIKWz"
      },
      "execution_count": null,
      "outputs": []
    },
    {
      "cell_type": "markdown",
      "source": [
        "We create a simple neural network model using the Sequential API in Keras. It consists of one dense (fully connected) layer with one neuron (output) and one input feature. The activation function defaults to linear in this case."
      ],
      "metadata": {
        "id": "vQKwSn41Ibux"
      }
    },
    {
      "cell_type": "markdown",
      "source": [
        "***COMPILING THE MODEL***\n"
      ],
      "metadata": {
        "id": "Q02vT-GwIeSa"
      }
    },
    {
      "cell_type": "code",
      "source": [
        "model.compile(optimizer='sgd',\n",
        "              loss='mean_squared_error')"
      ],
      "metadata": {
        "id": "Fq2dVvYdIjox"
      },
      "execution_count": null,
      "outputs": []
    },
    {
      "cell_type": "markdown",
      "source": [
        "We compile the model by specifying the optimizer and loss function. Here, we use Stochastic Gradient Descent (SGD) as the optimizer and Mean Squared Error (MSE) as the loss function. The choice of optimizer and loss function depends on the problem you are solving.\n",
        "We compile the model by specifying the optimizer and loss function. Here, we use Stochastic Gradient Descent (SGD) as the optimizer and Mean Squared Error (MSE) as the loss function. The choice of optimizer and loss function depends on the problem you are solving"
      ],
      "metadata": {
        "id": "JGydmUlpIxhw"
      }
    },
    {
      "cell_type": "markdown",
      "source": [
        "***TRAINING THE MODEL***"
      ],
      "metadata": {
        "id": "b3rQhgK9JJ4Y"
      }
    },
    {
      "cell_type": "code",
      "source": [
        "model.fit(X,y, epochs=50,batch_size=32)"
      ],
      "metadata": {
        "colab": {
          "base_uri": "https://localhost:8080/"
        },
        "id": "HMDASt5kJZGj",
        "outputId": "9a778c54-8f5a-4c71-cc96-f6d8ed0a6a14"
      },
      "execution_count": null,
      "outputs": [
        {
          "output_type": "stream",
          "name": "stdout",
          "text": [
            "Epoch 1/50\n",
            "4/4 [==============================] - 0s 4ms/step - loss: 8.3086\n",
            "Epoch 2/50\n",
            "4/4 [==============================] - 0s 4ms/step - loss: 6.7984\n",
            "Epoch 3/50\n",
            "4/4 [==============================] - 0s 4ms/step - loss: 5.5743\n",
            "Epoch 4/50\n",
            "4/4 [==============================] - 0s 5ms/step - loss: 4.5747\n",
            "Epoch 5/50\n",
            "4/4 [==============================] - 0s 7ms/step - loss: 3.7093\n",
            "Epoch 6/50\n",
            "4/4 [==============================] - 0s 4ms/step - loss: 3.0789\n",
            "Epoch 7/50\n",
            "4/4 [==============================] - 0s 4ms/step - loss: 2.5167\n",
            "Epoch 8/50\n",
            "4/4 [==============================] - 0s 3ms/step - loss: 2.0635\n",
            "Epoch 9/50\n",
            "4/4 [==============================] - 0s 4ms/step - loss: 1.6701\n",
            "Epoch 10/50\n",
            "4/4 [==============================] - 0s 4ms/step - loss: 1.3660\n",
            "Epoch 11/50\n",
            "4/4 [==============================] - 0s 4ms/step - loss: 1.1221\n",
            "Epoch 12/50\n",
            "4/4 [==============================] - 0s 4ms/step - loss: 0.9253\n",
            "Epoch 13/50\n",
            "4/4 [==============================] - 0s 5ms/step - loss: 0.7604\n",
            "Epoch 14/50\n",
            "4/4 [==============================] - 0s 4ms/step - loss: 0.6289\n",
            "Epoch 15/50\n",
            "4/4 [==============================] - 0s 3ms/step - loss: 0.5248\n",
            "Epoch 16/50\n",
            "4/4 [==============================] - 0s 4ms/step - loss: 0.4377\n",
            "Epoch 17/50\n",
            "4/4 [==============================] - 0s 4ms/step - loss: 0.3622\n",
            "Epoch 18/50\n",
            "4/4 [==============================] - 0s 3ms/step - loss: 0.3045\n",
            "Epoch 19/50\n",
            "4/4 [==============================] - 0s 3ms/step - loss: 0.2549\n",
            "Epoch 20/50\n",
            "4/4 [==============================] - 0s 4ms/step - loss: 0.2180\n",
            "Epoch 21/50\n",
            "4/4 [==============================] - 0s 3ms/step - loss: 0.1840\n",
            "Epoch 22/50\n",
            "4/4 [==============================] - 0s 3ms/step - loss: 0.1547\n",
            "Epoch 23/50\n",
            "4/4 [==============================] - 0s 3ms/step - loss: 0.1330\n",
            "Epoch 24/50\n",
            "4/4 [==============================] - 0s 3ms/step - loss: 0.1148\n",
            "Epoch 25/50\n",
            "4/4 [==============================] - 0s 3ms/step - loss: 0.1008\n",
            "Epoch 26/50\n",
            "4/4 [==============================] - 0s 4ms/step - loss: 0.0885\n",
            "Epoch 27/50\n",
            "4/4 [==============================] - 0s 4ms/step - loss: 0.0774\n",
            "Epoch 28/50\n",
            "4/4 [==============================] - 0s 4ms/step - loss: 0.0708\n",
            "Epoch 29/50\n",
            "4/4 [==============================] - 0s 3ms/step - loss: 0.0649\n",
            "Epoch 30/50\n",
            "4/4 [==============================] - 0s 4ms/step - loss: 0.0585\n",
            "Epoch 31/50\n",
            "4/4 [==============================] - 0s 4ms/step - loss: 0.0542\n",
            "Epoch 32/50\n",
            "4/4 [==============================] - 0s 4ms/step - loss: 0.0500\n",
            "Epoch 33/50\n",
            "4/4 [==============================] - 0s 4ms/step - loss: 0.0481\n",
            "Epoch 34/50\n",
            "4/4 [==============================] - 0s 3ms/step - loss: 0.0455\n",
            "Epoch 35/50\n",
            "4/4 [==============================] - 0s 3ms/step - loss: 0.0438\n",
            "Epoch 36/50\n",
            "4/4 [==============================] - 0s 4ms/step - loss: 0.0422\n",
            "Epoch 37/50\n",
            "4/4 [==============================] - 0s 4ms/step - loss: 0.0400\n",
            "Epoch 38/50\n",
            "4/4 [==============================] - 0s 4ms/step - loss: 0.0388\n",
            "Epoch 39/50\n",
            "4/4 [==============================] - 0s 3ms/step - loss: 0.0373\n",
            "Epoch 40/50\n",
            "4/4 [==============================] - 0s 3ms/step - loss: 0.0361\n",
            "Epoch 41/50\n",
            "4/4 [==============================] - 0s 4ms/step - loss: 0.0353\n",
            "Epoch 42/50\n",
            "4/4 [==============================] - 0s 3ms/step - loss: 0.0345\n",
            "Epoch 43/50\n",
            "4/4 [==============================] - 0s 4ms/step - loss: 0.0340\n",
            "Epoch 44/50\n",
            "4/4 [==============================] - 0s 4ms/step - loss: 0.0334\n",
            "Epoch 45/50\n",
            "4/4 [==============================] - 0s 4ms/step - loss: 0.0330\n",
            "Epoch 46/50\n",
            "4/4 [==============================] - 0s 4ms/step - loss: 0.0324\n",
            "Epoch 47/50\n",
            "4/4 [==============================] - 0s 4ms/step - loss: 0.0321\n",
            "Epoch 48/50\n",
            "4/4 [==============================] - 0s 4ms/step - loss: 0.0318\n",
            "Epoch 49/50\n",
            "4/4 [==============================] - 0s 4ms/step - loss: 0.0315\n",
            "Epoch 50/50\n",
            "4/4 [==============================] - 0s 3ms/step - loss: 0.0312\n"
          ]
        },
        {
          "output_type": "execute_result",
          "data": {
            "text/plain": [
              "<keras.src.callbacks.History at 0x7ddbedc20a60>"
            ]
          },
          "metadata": {},
          "execution_count": 23
        }
      ]
    },
    {
      "cell_type": "markdown",
      "source": [
        "We train the model using the fit method. The input data (X) and target data (y) are provided, and the model is trained for 50 epochs with a batch size of 32. Training involves adjusting the model's weights to minimize the defined loss function.\n"
      ],
      "metadata": {
        "id": "Oq3OD1tsJfKq"
      }
    },
    {
      "cell_type": "markdown",
      "source": [
        "In the context of training a machine learning model, the \"batch size\" refers to the number of training examples utilized in one iteration. During each iteration (also known as an epoch), the entire dataset is split into batches, and the model is trained on each batch sequentially.\n",
        "The number of batches depends on the total size of your dataset and the chosen batch size. The formula to calculate the number of batches:\n",
        "Nbatches= Nsamples/batchsize\n",
        "Nsamples=is the total number of training samples in your dataset can be found by using len\n",
        "Batchsize= is the number of examples in each batch\n",
        "\n",
        "\n",
        "\n"
      ],
      "metadata": {
        "id": "cECmEoBlKouw"
      }
    },
    {
      "cell_type": "code",
      "source": [
        "len(X)"
      ],
      "metadata": {
        "colab": {
          "base_uri": "https://localhost:8080/"
        },
        "id": "fZnAwms6JeP5",
        "outputId": "e0022736-c140-4bc4-bedb-6d26adf233fd"
      },
      "execution_count": null,
      "outputs": [
        {
          "output_type": "execute_result",
          "data": {
            "text/plain": [
              "100"
            ]
          },
          "metadata": {},
          "execution_count": 24
        }
      ]
    },
    {
      "cell_type": "code",
      "source": [
        "batch_size=32"
      ],
      "metadata": {
        "id": "vtPJ3qC4Lpkk"
      },
      "execution_count": null,
      "outputs": []
    },
    {
      "cell_type": "code",
      "source": [
        "num_batches=len(X)//batch_size\n",
        "num_batches"
      ],
      "metadata": {
        "colab": {
          "base_uri": "https://localhost:8080/"
        },
        "id": "gJnrH2N2KX5C",
        "outputId": "259db685-e88b-481a-8603-7c6181574c38"
      },
      "execution_count": null,
      "outputs": [
        {
          "output_type": "execute_result",
          "data": {
            "text/plain": [
              "3"
            ]
          },
          "metadata": {},
          "execution_count": 26
        }
      ]
    },
    {
      "cell_type": "markdown",
      "source": [
        "***PREDICTING USING THE MODEL***"
      ],
      "metadata": {
        "id": "ldUFK2dmLv7q"
      }
    },
    {
      "cell_type": "code",
      "source": [
        "predictions=model.predict(X)"
      ],
      "metadata": {
        "colab": {
          "base_uri": "https://localhost:8080/"
        },
        "id": "CTvJw3tdL6E4",
        "outputId": "7e5999a3-6d32-40b4-d29f-cd12ac73f653"
      },
      "execution_count": null,
      "outputs": [
        {
          "output_type": "stream",
          "name": "stdout",
          "text": [
            "4/4 [==============================] - 0s 3ms/step\n"
          ]
        }
      ]
    },
    {
      "cell_type": "markdown",
      "source": [
        "We use the trained model to make predictions on the input data (X). The predict method takes input data and produces corresponding predictions."
      ],
      "metadata": {
        "id": "qE4mOK01L6jm"
      }
    },
    {
      "cell_type": "markdown",
      "source": [
        "***EVALUATING THE MODEL***"
      ],
      "metadata": {
        "id": "-kb4ZnstMDu_"
      }
    },
    {
      "cell_type": "code",
      "source": [
        "mse=tf.keras.losses.mean_squared_error(y,predictions)\n",
        "print(mse)"
      ],
      "metadata": {
        "colab": {
          "base_uri": "https://localhost:8080/"
        },
        "id": "OtQpgPh6MAPq",
        "outputId": "bd30776d-6195-4238-f487-ac688f525531"
      },
      "execution_count": null,
      "outputs": [
        {
          "output_type": "stream",
          "name": "stdout",
          "text": [
            "tf.Tensor(\n",
            "[2.1988752e-03 5.5308014e-02 2.3263132e-02 1.6801117e-02 3.9674241e-02\n",
            " 2.0027647e-02 7.0448876e-03 2.7622335e-02 1.0700879e-04 6.3771964e-03\n",
            " 2.5938280e-02 9.5256001e-02 2.1396667e-02 8.9386906e-03 2.3453780e-02\n",
            " 4.2393701e-03 2.7200995e-02 2.2648779e-05 3.9512012e-03 6.1660741e-02\n",
            " 1.1255811e-02 2.5698770e-02 1.0189603e-02 6.9902032e-03 2.3030477e-02\n",
            " 1.7129792e-02 3.5040744e-02 3.3728939e-03 2.4536490e-03 3.9121978e-02\n",
            " 6.9012582e-02 2.3008628e-02 4.0840473e-02 6.5851100e-02 6.6427249e-03\n",
            " 3.3568837e-02 7.8308191e-03 1.3420651e-03 9.5118927e-03 1.2265079e-04\n",
            " 3.9840247e-02 1.1093051e-02 1.7063890e-02 1.0063653e-01 1.6745260e-03\n",
            " 1.8887450e-04 2.4715380e-03 1.3176134e-02 9.7834896e-03 3.3498097e-03\n",
            " 3.1161621e-02 1.2260326e-02 7.2253577e-02 3.3718221e-02 7.4564400e-03\n",
            " 6.5475732e-02 1.0305989e-01 1.1581038e-02 1.0944256e-01 5.1852055e-03\n",
            " 1.5889684e-02 2.1093154e-02 7.7585667e-02 3.5563421e-02 7.2161327e-03\n",
            " 2.8461695e-02 1.1996935e-01 4.0353753e-02 3.8639829e-02 1.3205366e-01\n",
            " 1.7685137e-03 8.1509732e-02 4.3590304e-02 4.8180070e-02 2.3841234e-02\n",
            " 3.1091964e-02 9.4486577e-03 3.9845958e-02 1.2415842e-03 7.3439784e-02\n",
            " 1.6232398e-01 1.6961019e-02 3.9607596e-02 2.6575798e-02 3.5509218e-02\n",
            " 1.8996785e-05 6.6500731e-02 7.6020391e-05 1.0632340e-01 1.6034320e-03\n",
            " 1.3290173e-02 1.0406515e-01 1.8179642e-02 7.3118764e-04 5.7890862e-03\n",
            " 5.0133923e-03 3.6750894e-04 6.4261832e-05 4.9387954e-02 1.4709811e-02], shape=(100,), dtype=float32)\n"
          ]
        }
      ]
    },
    {
      "cell_type": "code",
      "source": [],
      "metadata": {
        "id": "8Xx1ceAYMc20"
      },
      "execution_count": null,
      "outputs": []
    }
  ]
}